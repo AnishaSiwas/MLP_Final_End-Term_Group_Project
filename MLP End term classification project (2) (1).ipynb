{
 "cells": [
  {
   "cell_type": "code",
   "execution_count": 1,
   "id": "05d01d03",
   "metadata": {},
   "outputs": [],
   "source": [
    "import numpy as np\n",
    "import pandas as pd\n",
    "from matplotlib import pyplot as plt\n",
    "from sklearn.metrics import confusion_matrix\n",
    "from sklearn.neighbors import KNeighborsClassifier\n",
    "from sklearn.model_selection import train_test_split\n",
    "import seaborn as sns\n",
    "sns.set()\n",
    "\n",
    "# Importing all the required python modules"
   ]
  },
  {
   "cell_type": "code",
   "execution_count": 2,
   "id": "81cd4430",
   "metadata": {},
   "outputs": [],
   "source": [
    "df=pd.read_csv(\"C:\\\\Users\\\\Anisha Siwas\\\\Downloads\\\\archive (3)\\\\heart.csv\")"
   ]
  },
  {
   "cell_type": "code",
   "execution_count": 3,
   "id": "fdfba45c",
   "metadata": {},
   "outputs": [
    {
     "data": {
      "text/html": [
       "<div>\n",
       "<style scoped>\n",
       "    .dataframe tbody tr th:only-of-type {\n",
       "        vertical-align: middle;\n",
       "    }\n",
       "\n",
       "    .dataframe tbody tr th {\n",
       "        vertical-align: top;\n",
       "    }\n",
       "\n",
       "    .dataframe thead th {\n",
       "        text-align: right;\n",
       "    }\n",
       "</style>\n",
       "<table border=\"1\" class=\"dataframe\">\n",
       "  <thead>\n",
       "    <tr style=\"text-align: right;\">\n",
       "      <th></th>\n",
       "      <th>age</th>\n",
       "      <th>sex</th>\n",
       "      <th>cp</th>\n",
       "      <th>trestbps</th>\n",
       "      <th>chol</th>\n",
       "      <th>fbs</th>\n",
       "      <th>restecg</th>\n",
       "      <th>thalach</th>\n",
       "      <th>exang</th>\n",
       "      <th>oldpeak</th>\n",
       "      <th>slope</th>\n",
       "      <th>ca</th>\n",
       "      <th>thal</th>\n",
       "      <th>target</th>\n",
       "    </tr>\n",
       "  </thead>\n",
       "  <tbody>\n",
       "    <tr>\n",
       "      <th>0</th>\n",
       "      <td>63</td>\n",
       "      <td>1</td>\n",
       "      <td>3</td>\n",
       "      <td>145</td>\n",
       "      <td>233</td>\n",
       "      <td>1</td>\n",
       "      <td>0</td>\n",
       "      <td>150</td>\n",
       "      <td>0</td>\n",
       "      <td>2.3</td>\n",
       "      <td>0</td>\n",
       "      <td>0</td>\n",
       "      <td>1</td>\n",
       "      <td>1</td>\n",
       "    </tr>\n",
       "    <tr>\n",
       "      <th>1</th>\n",
       "      <td>37</td>\n",
       "      <td>1</td>\n",
       "      <td>2</td>\n",
       "      <td>130</td>\n",
       "      <td>250</td>\n",
       "      <td>0</td>\n",
       "      <td>1</td>\n",
       "      <td>187</td>\n",
       "      <td>0</td>\n",
       "      <td>3.5</td>\n",
       "      <td>0</td>\n",
       "      <td>0</td>\n",
       "      <td>2</td>\n",
       "      <td>1</td>\n",
       "    </tr>\n",
       "    <tr>\n",
       "      <th>2</th>\n",
       "      <td>41</td>\n",
       "      <td>0</td>\n",
       "      <td>1</td>\n",
       "      <td>130</td>\n",
       "      <td>204</td>\n",
       "      <td>0</td>\n",
       "      <td>0</td>\n",
       "      <td>172</td>\n",
       "      <td>0</td>\n",
       "      <td>1.4</td>\n",
       "      <td>2</td>\n",
       "      <td>0</td>\n",
       "      <td>2</td>\n",
       "      <td>1</td>\n",
       "    </tr>\n",
       "    <tr>\n",
       "      <th>3</th>\n",
       "      <td>56</td>\n",
       "      <td>1</td>\n",
       "      <td>1</td>\n",
       "      <td>120</td>\n",
       "      <td>236</td>\n",
       "      <td>0</td>\n",
       "      <td>1</td>\n",
       "      <td>178</td>\n",
       "      <td>0</td>\n",
       "      <td>0.8</td>\n",
       "      <td>2</td>\n",
       "      <td>0</td>\n",
       "      <td>2</td>\n",
       "      <td>1</td>\n",
       "    </tr>\n",
       "    <tr>\n",
       "      <th>4</th>\n",
       "      <td>57</td>\n",
       "      <td>0</td>\n",
       "      <td>0</td>\n",
       "      <td>120</td>\n",
       "      <td>354</td>\n",
       "      <td>0</td>\n",
       "      <td>1</td>\n",
       "      <td>163</td>\n",
       "      <td>1</td>\n",
       "      <td>0.6</td>\n",
       "      <td>2</td>\n",
       "      <td>0</td>\n",
       "      <td>2</td>\n",
       "      <td>1</td>\n",
       "    </tr>\n",
       "  </tbody>\n",
       "</table>\n",
       "</div>"
      ],
      "text/plain": [
       "   age  sex  cp  trestbps  chol  fbs  restecg  thalach  exang  oldpeak  slope  \\\n",
       "0   63    1   3       145   233    1        0      150      0      2.3      0   \n",
       "1   37    1   2       130   250    0        1      187      0      3.5      0   \n",
       "2   41    0   1       130   204    0        0      172      0      1.4      2   \n",
       "3   56    1   1       120   236    0        1      178      0      0.8      2   \n",
       "4   57    0   0       120   354    0        1      163      1      0.6      2   \n",
       "\n",
       "   ca  thal  target  \n",
       "0   0     1       1  \n",
       "1   0     2       1  \n",
       "2   0     2       1  \n",
       "3   0     2       1  \n",
       "4   0     2       1  "
      ]
     },
     "execution_count": 3,
     "metadata": {},
     "output_type": "execute_result"
    }
   ],
   "source": [
    "# Head function will show us the top records of the dataset. By default python shows the top 5 records.\n",
    "df.head()"
   ]
  },
  {
   "cell_type": "code",
   "execution_count": 4,
   "id": "cdf124e9",
   "metadata": {},
   "outputs": [
    {
     "data": {
      "text/html": [
       "<div>\n",
       "<style scoped>\n",
       "    .dataframe tbody tr th:only-of-type {\n",
       "        vertical-align: middle;\n",
       "    }\n",
       "\n",
       "    .dataframe tbody tr th {\n",
       "        vertical-align: top;\n",
       "    }\n",
       "\n",
       "    .dataframe thead th {\n",
       "        text-align: right;\n",
       "    }\n",
       "</style>\n",
       "<table border=\"1\" class=\"dataframe\">\n",
       "  <thead>\n",
       "    <tr style=\"text-align: right;\">\n",
       "      <th></th>\n",
       "      <th>age</th>\n",
       "      <th>sex</th>\n",
       "      <th>cp</th>\n",
       "      <th>trestbps</th>\n",
       "      <th>chol</th>\n",
       "      <th>fbs</th>\n",
       "      <th>restecg</th>\n",
       "      <th>thalach</th>\n",
       "      <th>exang</th>\n",
       "      <th>oldpeak</th>\n",
       "      <th>slope</th>\n",
       "      <th>ca</th>\n",
       "      <th>thal</th>\n",
       "      <th>target</th>\n",
       "    </tr>\n",
       "  </thead>\n",
       "  <tbody>\n",
       "    <tr>\n",
       "      <th>298</th>\n",
       "      <td>57</td>\n",
       "      <td>0</td>\n",
       "      <td>0</td>\n",
       "      <td>140</td>\n",
       "      <td>241</td>\n",
       "      <td>0</td>\n",
       "      <td>1</td>\n",
       "      <td>123</td>\n",
       "      <td>1</td>\n",
       "      <td>0.2</td>\n",
       "      <td>1</td>\n",
       "      <td>0</td>\n",
       "      <td>3</td>\n",
       "      <td>0</td>\n",
       "    </tr>\n",
       "    <tr>\n",
       "      <th>299</th>\n",
       "      <td>45</td>\n",
       "      <td>1</td>\n",
       "      <td>3</td>\n",
       "      <td>110</td>\n",
       "      <td>264</td>\n",
       "      <td>0</td>\n",
       "      <td>1</td>\n",
       "      <td>132</td>\n",
       "      <td>0</td>\n",
       "      <td>1.2</td>\n",
       "      <td>1</td>\n",
       "      <td>0</td>\n",
       "      <td>3</td>\n",
       "      <td>0</td>\n",
       "    </tr>\n",
       "    <tr>\n",
       "      <th>300</th>\n",
       "      <td>68</td>\n",
       "      <td>1</td>\n",
       "      <td>0</td>\n",
       "      <td>144</td>\n",
       "      <td>193</td>\n",
       "      <td>1</td>\n",
       "      <td>1</td>\n",
       "      <td>141</td>\n",
       "      <td>0</td>\n",
       "      <td>3.4</td>\n",
       "      <td>1</td>\n",
       "      <td>2</td>\n",
       "      <td>3</td>\n",
       "      <td>0</td>\n",
       "    </tr>\n",
       "    <tr>\n",
       "      <th>301</th>\n",
       "      <td>57</td>\n",
       "      <td>1</td>\n",
       "      <td>0</td>\n",
       "      <td>130</td>\n",
       "      <td>131</td>\n",
       "      <td>0</td>\n",
       "      <td>1</td>\n",
       "      <td>115</td>\n",
       "      <td>1</td>\n",
       "      <td>1.2</td>\n",
       "      <td>1</td>\n",
       "      <td>1</td>\n",
       "      <td>3</td>\n",
       "      <td>0</td>\n",
       "    </tr>\n",
       "    <tr>\n",
       "      <th>302</th>\n",
       "      <td>57</td>\n",
       "      <td>0</td>\n",
       "      <td>1</td>\n",
       "      <td>130</td>\n",
       "      <td>236</td>\n",
       "      <td>0</td>\n",
       "      <td>0</td>\n",
       "      <td>174</td>\n",
       "      <td>0</td>\n",
       "      <td>0.0</td>\n",
       "      <td>1</td>\n",
       "      <td>1</td>\n",
       "      <td>2</td>\n",
       "      <td>0</td>\n",
       "    </tr>\n",
       "  </tbody>\n",
       "</table>\n",
       "</div>"
      ],
      "text/plain": [
       "     age  sex  cp  trestbps  chol  fbs  restecg  thalach  exang  oldpeak  \\\n",
       "298   57    0   0       140   241    0        1      123      1      0.2   \n",
       "299   45    1   3       110   264    0        1      132      0      1.2   \n",
       "300   68    1   0       144   193    1        1      141      0      3.4   \n",
       "301   57    1   0       130   131    0        1      115      1      1.2   \n",
       "302   57    0   1       130   236    0        0      174      0      0.0   \n",
       "\n",
       "     slope  ca  thal  target  \n",
       "298      1   0     3       0  \n",
       "299      1   0     3       0  \n",
       "300      1   2     3       0  \n",
       "301      1   1     3       0  \n",
       "302      1   1     2       0  "
      ]
     },
     "execution_count": 4,
     "metadata": {},
     "output_type": "execute_result"
    }
   ],
   "source": [
    "# Tail function will show you the last 5 records of the dataset.\n",
    "df.tail()"
   ]
  },
  {
   "cell_type": "code",
   "execution_count": 5,
   "id": "ec71e739",
   "metadata": {},
   "outputs": [
    {
     "data": {
      "text/plain": [
       "Index(['age', 'sex', 'cp', 'trestbps', 'chol', 'fbs', 'restecg', 'thalach',\n",
       "       'exang', 'oldpeak', 'slope', 'ca', 'thal', 'target'],\n",
       "      dtype='object')"
      ]
     },
     "execution_count": 5,
     "metadata": {},
     "output_type": "execute_result"
    }
   ],
   "source": [
    "# It returns the column labels of the given dataframe.\n",
    "df.columns"
   ]
  },
  {
   "cell_type": "code",
   "execution_count": 6,
   "id": "e4a7c159",
   "metadata": {},
   "outputs": [
    {
     "data": {
      "text/plain": [
       "age           int64\n",
       "sex           int64\n",
       "cp            int64\n",
       "trestbps      int64\n",
       "chol          int64\n",
       "fbs           int64\n",
       "restecg       int64\n",
       "thalach       int64\n",
       "exang         int64\n",
       "oldpeak     float64\n",
       "slope         int64\n",
       "ca            int64\n",
       "thal          int64\n",
       "target        int64\n",
       "dtype: object"
      ]
     },
     "execution_count": 6,
     "metadata": {},
     "output_type": "execute_result"
    }
   ],
   "source": [
    "# Identifying the datatype for every Variable\n",
    "df.dtypes"
   ]
  },
  {
   "cell_type": "code",
   "execution_count": 7,
   "id": "151a73e0",
   "metadata": {},
   "outputs": [
    {
     "name": "stdout",
     "output_type": "stream",
     "text": [
      "<class 'pandas.core.frame.DataFrame'>\n",
      "RangeIndex: 303 entries, 0 to 302\n",
      "Data columns (total 14 columns):\n",
      " #   Column    Non-Null Count  Dtype  \n",
      "---  ------    --------------  -----  \n",
      " 0   age       303 non-null    int64  \n",
      " 1   sex       303 non-null    int64  \n",
      " 2   cp        303 non-null    int64  \n",
      " 3   trestbps  303 non-null    int64  \n",
      " 4   chol      303 non-null    int64  \n",
      " 5   fbs       303 non-null    int64  \n",
      " 6   restecg   303 non-null    int64  \n",
      " 7   thalach   303 non-null    int64  \n",
      " 8   exang     303 non-null    int64  \n",
      " 9   oldpeak   303 non-null    float64\n",
      " 10  slope     303 non-null    int64  \n",
      " 11  ca        303 non-null    int64  \n",
      " 12  thal      303 non-null    int64  \n",
      " 13  target    303 non-null    int64  \n",
      "dtypes: float64(1), int64(13)\n",
      "memory usage: 33.3 KB\n"
     ]
    }
   ],
   "source": [
    "# Using df.info() to check if any null value present\n",
    "df.info()"
   ]
  },
  {
   "cell_type": "code",
   "execution_count": 8,
   "id": "be4c4db0",
   "metadata": {},
   "outputs": [
    {
     "data": {
      "text/html": [
       "<div>\n",
       "<style scoped>\n",
       "    .dataframe tbody tr th:only-of-type {\n",
       "        vertical-align: middle;\n",
       "    }\n",
       "\n",
       "    .dataframe tbody tr th {\n",
       "        vertical-align: top;\n",
       "    }\n",
       "\n",
       "    .dataframe thead th {\n",
       "        text-align: right;\n",
       "    }\n",
       "</style>\n",
       "<table border=\"1\" class=\"dataframe\">\n",
       "  <thead>\n",
       "    <tr style=\"text-align: right;\">\n",
       "      <th></th>\n",
       "      <th>age</th>\n",
       "      <th>sex</th>\n",
       "      <th>cp</th>\n",
       "      <th>trestbps</th>\n",
       "      <th>chol</th>\n",
       "      <th>fbs</th>\n",
       "      <th>restecg</th>\n",
       "      <th>thalach</th>\n",
       "      <th>exang</th>\n",
       "      <th>oldpeak</th>\n",
       "      <th>slope</th>\n",
       "      <th>ca</th>\n",
       "      <th>thal</th>\n",
       "      <th>target</th>\n",
       "    </tr>\n",
       "  </thead>\n",
       "  <tbody>\n",
       "    <tr>\n",
       "      <th>count</th>\n",
       "      <td>303.000000</td>\n",
       "      <td>303.000000</td>\n",
       "      <td>303.000000</td>\n",
       "      <td>303.000000</td>\n",
       "      <td>303.000000</td>\n",
       "      <td>303.000000</td>\n",
       "      <td>303.000000</td>\n",
       "      <td>303.000000</td>\n",
       "      <td>303.000000</td>\n",
       "      <td>303.000000</td>\n",
       "      <td>303.000000</td>\n",
       "      <td>303.000000</td>\n",
       "      <td>303.000000</td>\n",
       "      <td>303.000000</td>\n",
       "    </tr>\n",
       "    <tr>\n",
       "      <th>mean</th>\n",
       "      <td>54.366337</td>\n",
       "      <td>0.683168</td>\n",
       "      <td>0.966997</td>\n",
       "      <td>131.623762</td>\n",
       "      <td>246.264026</td>\n",
       "      <td>0.148515</td>\n",
       "      <td>0.528053</td>\n",
       "      <td>149.646865</td>\n",
       "      <td>0.326733</td>\n",
       "      <td>1.039604</td>\n",
       "      <td>1.399340</td>\n",
       "      <td>0.729373</td>\n",
       "      <td>2.313531</td>\n",
       "      <td>0.544554</td>\n",
       "    </tr>\n",
       "    <tr>\n",
       "      <th>std</th>\n",
       "      <td>9.082101</td>\n",
       "      <td>0.466011</td>\n",
       "      <td>1.032052</td>\n",
       "      <td>17.538143</td>\n",
       "      <td>51.830751</td>\n",
       "      <td>0.356198</td>\n",
       "      <td>0.525860</td>\n",
       "      <td>22.905161</td>\n",
       "      <td>0.469794</td>\n",
       "      <td>1.161075</td>\n",
       "      <td>0.616226</td>\n",
       "      <td>1.022606</td>\n",
       "      <td>0.612277</td>\n",
       "      <td>0.498835</td>\n",
       "    </tr>\n",
       "    <tr>\n",
       "      <th>min</th>\n",
       "      <td>29.000000</td>\n",
       "      <td>0.000000</td>\n",
       "      <td>0.000000</td>\n",
       "      <td>94.000000</td>\n",
       "      <td>126.000000</td>\n",
       "      <td>0.000000</td>\n",
       "      <td>0.000000</td>\n",
       "      <td>71.000000</td>\n",
       "      <td>0.000000</td>\n",
       "      <td>0.000000</td>\n",
       "      <td>0.000000</td>\n",
       "      <td>0.000000</td>\n",
       "      <td>0.000000</td>\n",
       "      <td>0.000000</td>\n",
       "    </tr>\n",
       "    <tr>\n",
       "      <th>25%</th>\n",
       "      <td>47.500000</td>\n",
       "      <td>0.000000</td>\n",
       "      <td>0.000000</td>\n",
       "      <td>120.000000</td>\n",
       "      <td>211.000000</td>\n",
       "      <td>0.000000</td>\n",
       "      <td>0.000000</td>\n",
       "      <td>133.500000</td>\n",
       "      <td>0.000000</td>\n",
       "      <td>0.000000</td>\n",
       "      <td>1.000000</td>\n",
       "      <td>0.000000</td>\n",
       "      <td>2.000000</td>\n",
       "      <td>0.000000</td>\n",
       "    </tr>\n",
       "    <tr>\n",
       "      <th>50%</th>\n",
       "      <td>55.000000</td>\n",
       "      <td>1.000000</td>\n",
       "      <td>1.000000</td>\n",
       "      <td>130.000000</td>\n",
       "      <td>240.000000</td>\n",
       "      <td>0.000000</td>\n",
       "      <td>1.000000</td>\n",
       "      <td>153.000000</td>\n",
       "      <td>0.000000</td>\n",
       "      <td>0.800000</td>\n",
       "      <td>1.000000</td>\n",
       "      <td>0.000000</td>\n",
       "      <td>2.000000</td>\n",
       "      <td>1.000000</td>\n",
       "    </tr>\n",
       "    <tr>\n",
       "      <th>75%</th>\n",
       "      <td>61.000000</td>\n",
       "      <td>1.000000</td>\n",
       "      <td>2.000000</td>\n",
       "      <td>140.000000</td>\n",
       "      <td>274.500000</td>\n",
       "      <td>0.000000</td>\n",
       "      <td>1.000000</td>\n",
       "      <td>166.000000</td>\n",
       "      <td>1.000000</td>\n",
       "      <td>1.600000</td>\n",
       "      <td>2.000000</td>\n",
       "      <td>1.000000</td>\n",
       "      <td>3.000000</td>\n",
       "      <td>1.000000</td>\n",
       "    </tr>\n",
       "    <tr>\n",
       "      <th>max</th>\n",
       "      <td>77.000000</td>\n",
       "      <td>1.000000</td>\n",
       "      <td>3.000000</td>\n",
       "      <td>200.000000</td>\n",
       "      <td>564.000000</td>\n",
       "      <td>1.000000</td>\n",
       "      <td>2.000000</td>\n",
       "      <td>202.000000</td>\n",
       "      <td>1.000000</td>\n",
       "      <td>6.200000</td>\n",
       "      <td>2.000000</td>\n",
       "      <td>4.000000</td>\n",
       "      <td>3.000000</td>\n",
       "      <td>1.000000</td>\n",
       "    </tr>\n",
       "  </tbody>\n",
       "</table>\n",
       "</div>"
      ],
      "text/plain": [
       "              age         sex          cp    trestbps        chol         fbs  \\\n",
       "count  303.000000  303.000000  303.000000  303.000000  303.000000  303.000000   \n",
       "mean    54.366337    0.683168    0.966997  131.623762  246.264026    0.148515   \n",
       "std      9.082101    0.466011    1.032052   17.538143   51.830751    0.356198   \n",
       "min     29.000000    0.000000    0.000000   94.000000  126.000000    0.000000   \n",
       "25%     47.500000    0.000000    0.000000  120.000000  211.000000    0.000000   \n",
       "50%     55.000000    1.000000    1.000000  130.000000  240.000000    0.000000   \n",
       "75%     61.000000    1.000000    2.000000  140.000000  274.500000    0.000000   \n",
       "max     77.000000    1.000000    3.000000  200.000000  564.000000    1.000000   \n",
       "\n",
       "          restecg     thalach       exang     oldpeak       slope          ca  \\\n",
       "count  303.000000  303.000000  303.000000  303.000000  303.000000  303.000000   \n",
       "mean     0.528053  149.646865    0.326733    1.039604    1.399340    0.729373   \n",
       "std      0.525860   22.905161    0.469794    1.161075    0.616226    1.022606   \n",
       "min      0.000000   71.000000    0.000000    0.000000    0.000000    0.000000   \n",
       "25%      0.000000  133.500000    0.000000    0.000000    1.000000    0.000000   \n",
       "50%      1.000000  153.000000    0.000000    0.800000    1.000000    0.000000   \n",
       "75%      1.000000  166.000000    1.000000    1.600000    2.000000    1.000000   \n",
       "max      2.000000  202.000000    1.000000    6.200000    2.000000    4.000000   \n",
       "\n",
       "             thal      target  \n",
       "count  303.000000  303.000000  \n",
       "mean     2.313531    0.544554  \n",
       "std      0.612277    0.498835  \n",
       "min      0.000000    0.000000  \n",
       "25%      2.000000    0.000000  \n",
       "50%      2.000000    1.000000  \n",
       "75%      3.000000    1.000000  \n",
       "max      3.000000    1.000000  "
      ]
     },
     "execution_count": 8,
     "metadata": {},
     "output_type": "execute_result"
    }
   ],
   "source": [
    "# Describe is used to view some basic statistical details like, percentile, mean, standard deviation, etc of the given dataframe.\n",
    "df.describe(include = \"all\")"
   ]
  },
  {
   "cell_type": "code",
   "execution_count": 9,
   "id": "a1f7ef38",
   "metadata": {},
   "outputs": [
    {
     "name": "stdout",
     "output_type": "stream",
     "text": [
      "1\n"
     ]
    },
    {
     "data": {
      "text/html": [
       "<div>\n",
       "<style scoped>\n",
       "    .dataframe tbody tr th:only-of-type {\n",
       "        vertical-align: middle;\n",
       "    }\n",
       "\n",
       "    .dataframe tbody tr th {\n",
       "        vertical-align: top;\n",
       "    }\n",
       "\n",
       "    .dataframe thead th {\n",
       "        text-align: right;\n",
       "    }\n",
       "</style>\n",
       "<table border=\"1\" class=\"dataframe\">\n",
       "  <thead>\n",
       "    <tr style=\"text-align: right;\">\n",
       "      <th></th>\n",
       "      <th>age</th>\n",
       "      <th>sex</th>\n",
       "      <th>cp</th>\n",
       "      <th>trestbps</th>\n",
       "      <th>chol</th>\n",
       "      <th>fbs</th>\n",
       "      <th>restecg</th>\n",
       "      <th>thalach</th>\n",
       "      <th>exang</th>\n",
       "      <th>oldpeak</th>\n",
       "      <th>slope</th>\n",
       "      <th>ca</th>\n",
       "      <th>thal</th>\n",
       "      <th>target</th>\n",
       "    </tr>\n",
       "  </thead>\n",
       "  <tbody>\n",
       "    <tr>\n",
       "      <th>164</th>\n",
       "      <td>38</td>\n",
       "      <td>1</td>\n",
       "      <td>2</td>\n",
       "      <td>138</td>\n",
       "      <td>175</td>\n",
       "      <td>0</td>\n",
       "      <td>1</td>\n",
       "      <td>173</td>\n",
       "      <td>0</td>\n",
       "      <td>0.0</td>\n",
       "      <td>2</td>\n",
       "      <td>4</td>\n",
       "      <td>2</td>\n",
       "      <td>1</td>\n",
       "    </tr>\n",
       "  </tbody>\n",
       "</table>\n",
       "</div>"
      ],
      "text/plain": [
       "     age  sex  cp  trestbps  chol  fbs  restecg  thalach  exang  oldpeak  \\\n",
       "164   38    1   2       138   175    0        1      173      0      0.0   \n",
       "\n",
       "     slope  ca  thal  target  \n",
       "164      2   4     2       1  "
      ]
     },
     "execution_count": 9,
     "metadata": {},
     "output_type": "execute_result"
    }
   ],
   "source": [
    "# We will check for any duplicate records in the data. We will remove this data from the data set so that we get only distinct records.\n",
    "duplicate=df.duplicated()\n",
    "print(duplicate.sum())\n",
    "df[duplicate]"
   ]
  },
  {
   "cell_type": "code",
   "execution_count": 10,
   "id": "a3f22214",
   "metadata": {},
   "outputs": [],
   "source": [
    "#Removing the duplicates\n",
    "df = df.drop_duplicates(subset = None, keep ='first')"
   ]
  },
  {
   "cell_type": "code",
   "execution_count": 11,
   "id": "f6a6a91d",
   "metadata": {},
   "outputs": [
    {
     "data": {
      "text/html": [
       "<div>\n",
       "<style scoped>\n",
       "    .dataframe tbody tr th:only-of-type {\n",
       "        vertical-align: middle;\n",
       "    }\n",
       "\n",
       "    .dataframe tbody tr th {\n",
       "        vertical-align: top;\n",
       "    }\n",
       "\n",
       "    .dataframe thead th {\n",
       "        text-align: right;\n",
       "    }\n",
       "</style>\n",
       "<table border=\"1\" class=\"dataframe\">\n",
       "  <thead>\n",
       "    <tr style=\"text-align: right;\">\n",
       "      <th></th>\n",
       "      <th>age</th>\n",
       "      <th>sex</th>\n",
       "      <th>cp</th>\n",
       "      <th>trestbps</th>\n",
       "      <th>chol</th>\n",
       "      <th>fbs</th>\n",
       "      <th>restecg</th>\n",
       "      <th>thalach</th>\n",
       "      <th>exang</th>\n",
       "      <th>oldpeak</th>\n",
       "      <th>slope</th>\n",
       "      <th>ca</th>\n",
       "      <th>thal</th>\n",
       "      <th>target</th>\n",
       "    </tr>\n",
       "  </thead>\n",
       "  <tbody>\n",
       "    <tr>\n",
       "      <th>0</th>\n",
       "      <td>63</td>\n",
       "      <td>1</td>\n",
       "      <td>3</td>\n",
       "      <td>145</td>\n",
       "      <td>233</td>\n",
       "      <td>1</td>\n",
       "      <td>0</td>\n",
       "      <td>150</td>\n",
       "      <td>0</td>\n",
       "      <td>2.3</td>\n",
       "      <td>0</td>\n",
       "      <td>0</td>\n",
       "      <td>1</td>\n",
       "      <td>1</td>\n",
       "    </tr>\n",
       "    <tr>\n",
       "      <th>1</th>\n",
       "      <td>37</td>\n",
       "      <td>1</td>\n",
       "      <td>2</td>\n",
       "      <td>130</td>\n",
       "      <td>250</td>\n",
       "      <td>0</td>\n",
       "      <td>1</td>\n",
       "      <td>187</td>\n",
       "      <td>0</td>\n",
       "      <td>3.5</td>\n",
       "      <td>0</td>\n",
       "      <td>0</td>\n",
       "      <td>2</td>\n",
       "      <td>1</td>\n",
       "    </tr>\n",
       "    <tr>\n",
       "      <th>2</th>\n",
       "      <td>41</td>\n",
       "      <td>0</td>\n",
       "      <td>1</td>\n",
       "      <td>130</td>\n",
       "      <td>204</td>\n",
       "      <td>0</td>\n",
       "      <td>0</td>\n",
       "      <td>172</td>\n",
       "      <td>0</td>\n",
       "      <td>1.4</td>\n",
       "      <td>2</td>\n",
       "      <td>0</td>\n",
       "      <td>2</td>\n",
       "      <td>1</td>\n",
       "    </tr>\n",
       "    <tr>\n",
       "      <th>3</th>\n",
       "      <td>56</td>\n",
       "      <td>1</td>\n",
       "      <td>1</td>\n",
       "      <td>120</td>\n",
       "      <td>236</td>\n",
       "      <td>0</td>\n",
       "      <td>1</td>\n",
       "      <td>178</td>\n",
       "      <td>0</td>\n",
       "      <td>0.8</td>\n",
       "      <td>2</td>\n",
       "      <td>0</td>\n",
       "      <td>2</td>\n",
       "      <td>1</td>\n",
       "    </tr>\n",
       "    <tr>\n",
       "      <th>4</th>\n",
       "      <td>57</td>\n",
       "      <td>0</td>\n",
       "      <td>0</td>\n",
       "      <td>120</td>\n",
       "      <td>354</td>\n",
       "      <td>0</td>\n",
       "      <td>1</td>\n",
       "      <td>163</td>\n",
       "      <td>1</td>\n",
       "      <td>0.6</td>\n",
       "      <td>2</td>\n",
       "      <td>0</td>\n",
       "      <td>2</td>\n",
       "      <td>1</td>\n",
       "    </tr>\n",
       "    <tr>\n",
       "      <th>...</th>\n",
       "      <td>...</td>\n",
       "      <td>...</td>\n",
       "      <td>...</td>\n",
       "      <td>...</td>\n",
       "      <td>...</td>\n",
       "      <td>...</td>\n",
       "      <td>...</td>\n",
       "      <td>...</td>\n",
       "      <td>...</td>\n",
       "      <td>...</td>\n",
       "      <td>...</td>\n",
       "      <td>...</td>\n",
       "      <td>...</td>\n",
       "      <td>...</td>\n",
       "    </tr>\n",
       "    <tr>\n",
       "      <th>298</th>\n",
       "      <td>57</td>\n",
       "      <td>0</td>\n",
       "      <td>0</td>\n",
       "      <td>140</td>\n",
       "      <td>241</td>\n",
       "      <td>0</td>\n",
       "      <td>1</td>\n",
       "      <td>123</td>\n",
       "      <td>1</td>\n",
       "      <td>0.2</td>\n",
       "      <td>1</td>\n",
       "      <td>0</td>\n",
       "      <td>3</td>\n",
       "      <td>0</td>\n",
       "    </tr>\n",
       "    <tr>\n",
       "      <th>299</th>\n",
       "      <td>45</td>\n",
       "      <td>1</td>\n",
       "      <td>3</td>\n",
       "      <td>110</td>\n",
       "      <td>264</td>\n",
       "      <td>0</td>\n",
       "      <td>1</td>\n",
       "      <td>132</td>\n",
       "      <td>0</td>\n",
       "      <td>1.2</td>\n",
       "      <td>1</td>\n",
       "      <td>0</td>\n",
       "      <td>3</td>\n",
       "      <td>0</td>\n",
       "    </tr>\n",
       "    <tr>\n",
       "      <th>300</th>\n",
       "      <td>68</td>\n",
       "      <td>1</td>\n",
       "      <td>0</td>\n",
       "      <td>144</td>\n",
       "      <td>193</td>\n",
       "      <td>1</td>\n",
       "      <td>1</td>\n",
       "      <td>141</td>\n",
       "      <td>0</td>\n",
       "      <td>3.4</td>\n",
       "      <td>1</td>\n",
       "      <td>2</td>\n",
       "      <td>3</td>\n",
       "      <td>0</td>\n",
       "    </tr>\n",
       "    <tr>\n",
       "      <th>301</th>\n",
       "      <td>57</td>\n",
       "      <td>1</td>\n",
       "      <td>0</td>\n",
       "      <td>130</td>\n",
       "      <td>131</td>\n",
       "      <td>0</td>\n",
       "      <td>1</td>\n",
       "      <td>115</td>\n",
       "      <td>1</td>\n",
       "      <td>1.2</td>\n",
       "      <td>1</td>\n",
       "      <td>1</td>\n",
       "      <td>3</td>\n",
       "      <td>0</td>\n",
       "    </tr>\n",
       "    <tr>\n",
       "      <th>302</th>\n",
       "      <td>57</td>\n",
       "      <td>0</td>\n",
       "      <td>1</td>\n",
       "      <td>130</td>\n",
       "      <td>236</td>\n",
       "      <td>0</td>\n",
       "      <td>0</td>\n",
       "      <td>174</td>\n",
       "      <td>0</td>\n",
       "      <td>0.0</td>\n",
       "      <td>1</td>\n",
       "      <td>1</td>\n",
       "      <td>2</td>\n",
       "      <td>0</td>\n",
       "    </tr>\n",
       "  </tbody>\n",
       "</table>\n",
       "<p>302 rows × 14 columns</p>\n",
       "</div>"
      ],
      "text/plain": [
       "     age  sex  cp  trestbps  chol  fbs  restecg  thalach  exang  oldpeak  \\\n",
       "0     63    1   3       145   233    1        0      150      0      2.3   \n",
       "1     37    1   2       130   250    0        1      187      0      3.5   \n",
       "2     41    0   1       130   204    0        0      172      0      1.4   \n",
       "3     56    1   1       120   236    0        1      178      0      0.8   \n",
       "4     57    0   0       120   354    0        1      163      1      0.6   \n",
       "..   ...  ...  ..       ...   ...  ...      ...      ...    ...      ...   \n",
       "298   57    0   0       140   241    0        1      123      1      0.2   \n",
       "299   45    1   3       110   264    0        1      132      0      1.2   \n",
       "300   68    1   0       144   193    1        1      141      0      3.4   \n",
       "301   57    1   0       130   131    0        1      115      1      1.2   \n",
       "302   57    0   1       130   236    0        0      174      0      0.0   \n",
       "\n",
       "     slope  ca  thal  target  \n",
       "0        0   0     1       1  \n",
       "1        0   0     2       1  \n",
       "2        2   0     2       1  \n",
       "3        2   0     2       1  \n",
       "4        2   0     2       1  \n",
       "..     ...  ..   ...     ...  \n",
       "298      1   0     3       0  \n",
       "299      1   0     3       0  \n",
       "300      1   2     3       0  \n",
       "301      1   1     3       0  \n",
       "302      1   1     2       0  \n",
       "\n",
       "[302 rows x 14 columns]"
      ]
     },
     "execution_count": 11,
     "metadata": {},
     "output_type": "execute_result"
    }
   ],
   "source": [
    "# Dropping the rows with null values\n",
    "df.dropna()"
   ]
  },
  {
   "cell_type": "code",
   "execution_count": 12,
   "id": "87ace2a9",
   "metadata": {},
   "outputs": [
    {
     "data": {
      "text/html": [
       "<div>\n",
       "<style scoped>\n",
       "    .dataframe tbody tr th:only-of-type {\n",
       "        vertical-align: middle;\n",
       "    }\n",
       "\n",
       "    .dataframe tbody tr th {\n",
       "        vertical-align: top;\n",
       "    }\n",
       "\n",
       "    .dataframe thead th {\n",
       "        text-align: right;\n",
       "    }\n",
       "</style>\n",
       "<table border=\"1\" class=\"dataframe\">\n",
       "  <thead>\n",
       "    <tr style=\"text-align: right;\">\n",
       "      <th></th>\n",
       "      <th>age</th>\n",
       "      <th>sex</th>\n",
       "      <th>cp</th>\n",
       "      <th>trestbps</th>\n",
       "      <th>chol</th>\n",
       "      <th>fbs</th>\n",
       "      <th>restecg</th>\n",
       "      <th>thalach</th>\n",
       "      <th>exang</th>\n",
       "      <th>oldpeak</th>\n",
       "      <th>slope</th>\n",
       "      <th>ca</th>\n",
       "      <th>thal</th>\n",
       "      <th>target</th>\n",
       "    </tr>\n",
       "  </thead>\n",
       "  <tbody>\n",
       "    <tr>\n",
       "      <th>age</th>\n",
       "      <td>1.000000</td>\n",
       "      <td>-0.094962</td>\n",
       "      <td>-0.063107</td>\n",
       "      <td>0.283121</td>\n",
       "      <td>0.207216</td>\n",
       "      <td>0.119492</td>\n",
       "      <td>-0.111590</td>\n",
       "      <td>-0.395235</td>\n",
       "      <td>0.093216</td>\n",
       "      <td>0.206040</td>\n",
       "      <td>-0.164124</td>\n",
       "      <td>0.302261</td>\n",
       "      <td>0.065317</td>\n",
       "      <td>-0.221476</td>\n",
       "    </tr>\n",
       "    <tr>\n",
       "      <th>sex</th>\n",
       "      <td>-0.094962</td>\n",
       "      <td>1.000000</td>\n",
       "      <td>-0.051740</td>\n",
       "      <td>-0.057647</td>\n",
       "      <td>-0.195571</td>\n",
       "      <td>0.046022</td>\n",
       "      <td>-0.060351</td>\n",
       "      <td>-0.046439</td>\n",
       "      <td>0.143460</td>\n",
       "      <td>0.098322</td>\n",
       "      <td>-0.032990</td>\n",
       "      <td>0.113060</td>\n",
       "      <td>0.211452</td>\n",
       "      <td>-0.283609</td>\n",
       "    </tr>\n",
       "    <tr>\n",
       "      <th>cp</th>\n",
       "      <td>-0.063107</td>\n",
       "      <td>-0.051740</td>\n",
       "      <td>1.000000</td>\n",
       "      <td>0.046486</td>\n",
       "      <td>-0.072682</td>\n",
       "      <td>0.096018</td>\n",
       "      <td>0.041561</td>\n",
       "      <td>0.293367</td>\n",
       "      <td>-0.392937</td>\n",
       "      <td>-0.146692</td>\n",
       "      <td>0.116854</td>\n",
       "      <td>-0.195356</td>\n",
       "      <td>-0.160370</td>\n",
       "      <td>0.432080</td>\n",
       "    </tr>\n",
       "    <tr>\n",
       "      <th>trestbps</th>\n",
       "      <td>0.283121</td>\n",
       "      <td>-0.057647</td>\n",
       "      <td>0.046486</td>\n",
       "      <td>1.000000</td>\n",
       "      <td>0.125256</td>\n",
       "      <td>0.178125</td>\n",
       "      <td>-0.115367</td>\n",
       "      <td>-0.048023</td>\n",
       "      <td>0.068526</td>\n",
       "      <td>0.194600</td>\n",
       "      <td>-0.122873</td>\n",
       "      <td>0.099248</td>\n",
       "      <td>0.062870</td>\n",
       "      <td>-0.146269</td>\n",
       "    </tr>\n",
       "    <tr>\n",
       "      <th>chol</th>\n",
       "      <td>0.207216</td>\n",
       "      <td>-0.195571</td>\n",
       "      <td>-0.072682</td>\n",
       "      <td>0.125256</td>\n",
       "      <td>1.000000</td>\n",
       "      <td>0.011428</td>\n",
       "      <td>-0.147602</td>\n",
       "      <td>-0.005308</td>\n",
       "      <td>0.064099</td>\n",
       "      <td>0.050086</td>\n",
       "      <td>0.000417</td>\n",
       "      <td>0.086878</td>\n",
       "      <td>0.096810</td>\n",
       "      <td>-0.081437</td>\n",
       "    </tr>\n",
       "    <tr>\n",
       "      <th>fbs</th>\n",
       "      <td>0.119492</td>\n",
       "      <td>0.046022</td>\n",
       "      <td>0.096018</td>\n",
       "      <td>0.178125</td>\n",
       "      <td>0.011428</td>\n",
       "      <td>1.000000</td>\n",
       "      <td>-0.083081</td>\n",
       "      <td>-0.007169</td>\n",
       "      <td>0.024729</td>\n",
       "      <td>0.004514</td>\n",
       "      <td>-0.058654</td>\n",
       "      <td>0.144935</td>\n",
       "      <td>-0.032752</td>\n",
       "      <td>-0.026826</td>\n",
       "    </tr>\n",
       "    <tr>\n",
       "      <th>restecg</th>\n",
       "      <td>-0.111590</td>\n",
       "      <td>-0.060351</td>\n",
       "      <td>0.041561</td>\n",
       "      <td>-0.115367</td>\n",
       "      <td>-0.147602</td>\n",
       "      <td>-0.083081</td>\n",
       "      <td>1.000000</td>\n",
       "      <td>0.041210</td>\n",
       "      <td>-0.068807</td>\n",
       "      <td>-0.056251</td>\n",
       "      <td>0.090402</td>\n",
       "      <td>-0.083112</td>\n",
       "      <td>-0.010473</td>\n",
       "      <td>0.134874</td>\n",
       "    </tr>\n",
       "    <tr>\n",
       "      <th>thalach</th>\n",
       "      <td>-0.395235</td>\n",
       "      <td>-0.046439</td>\n",
       "      <td>0.293367</td>\n",
       "      <td>-0.048023</td>\n",
       "      <td>-0.005308</td>\n",
       "      <td>-0.007169</td>\n",
       "      <td>0.041210</td>\n",
       "      <td>1.000000</td>\n",
       "      <td>-0.377411</td>\n",
       "      <td>-0.342201</td>\n",
       "      <td>0.384754</td>\n",
       "      <td>-0.228311</td>\n",
       "      <td>-0.094910</td>\n",
       "      <td>0.419955</td>\n",
       "    </tr>\n",
       "    <tr>\n",
       "      <th>exang</th>\n",
       "      <td>0.093216</td>\n",
       "      <td>0.143460</td>\n",
       "      <td>-0.392937</td>\n",
       "      <td>0.068526</td>\n",
       "      <td>0.064099</td>\n",
       "      <td>0.024729</td>\n",
       "      <td>-0.068807</td>\n",
       "      <td>-0.377411</td>\n",
       "      <td>1.000000</td>\n",
       "      <td>0.286766</td>\n",
       "      <td>-0.256106</td>\n",
       "      <td>0.125377</td>\n",
       "      <td>0.205826</td>\n",
       "      <td>-0.435601</td>\n",
       "    </tr>\n",
       "    <tr>\n",
       "      <th>oldpeak</th>\n",
       "      <td>0.206040</td>\n",
       "      <td>0.098322</td>\n",
       "      <td>-0.146692</td>\n",
       "      <td>0.194600</td>\n",
       "      <td>0.050086</td>\n",
       "      <td>0.004514</td>\n",
       "      <td>-0.056251</td>\n",
       "      <td>-0.342201</td>\n",
       "      <td>0.286766</td>\n",
       "      <td>1.000000</td>\n",
       "      <td>-0.576314</td>\n",
       "      <td>0.236560</td>\n",
       "      <td>0.209090</td>\n",
       "      <td>-0.429146</td>\n",
       "    </tr>\n",
       "    <tr>\n",
       "      <th>slope</th>\n",
       "      <td>-0.164124</td>\n",
       "      <td>-0.032990</td>\n",
       "      <td>0.116854</td>\n",
       "      <td>-0.122873</td>\n",
       "      <td>0.000417</td>\n",
       "      <td>-0.058654</td>\n",
       "      <td>0.090402</td>\n",
       "      <td>0.384754</td>\n",
       "      <td>-0.256106</td>\n",
       "      <td>-0.576314</td>\n",
       "      <td>1.000000</td>\n",
       "      <td>-0.092236</td>\n",
       "      <td>-0.103314</td>\n",
       "      <td>0.343940</td>\n",
       "    </tr>\n",
       "    <tr>\n",
       "      <th>ca</th>\n",
       "      <td>0.302261</td>\n",
       "      <td>0.113060</td>\n",
       "      <td>-0.195356</td>\n",
       "      <td>0.099248</td>\n",
       "      <td>0.086878</td>\n",
       "      <td>0.144935</td>\n",
       "      <td>-0.083112</td>\n",
       "      <td>-0.228311</td>\n",
       "      <td>0.125377</td>\n",
       "      <td>0.236560</td>\n",
       "      <td>-0.092236</td>\n",
       "      <td>1.000000</td>\n",
       "      <td>0.160085</td>\n",
       "      <td>-0.408992</td>\n",
       "    </tr>\n",
       "    <tr>\n",
       "      <th>thal</th>\n",
       "      <td>0.065317</td>\n",
       "      <td>0.211452</td>\n",
       "      <td>-0.160370</td>\n",
       "      <td>0.062870</td>\n",
       "      <td>0.096810</td>\n",
       "      <td>-0.032752</td>\n",
       "      <td>-0.010473</td>\n",
       "      <td>-0.094910</td>\n",
       "      <td>0.205826</td>\n",
       "      <td>0.209090</td>\n",
       "      <td>-0.103314</td>\n",
       "      <td>0.160085</td>\n",
       "      <td>1.000000</td>\n",
       "      <td>-0.343101</td>\n",
       "    </tr>\n",
       "    <tr>\n",
       "      <th>target</th>\n",
       "      <td>-0.221476</td>\n",
       "      <td>-0.283609</td>\n",
       "      <td>0.432080</td>\n",
       "      <td>-0.146269</td>\n",
       "      <td>-0.081437</td>\n",
       "      <td>-0.026826</td>\n",
       "      <td>0.134874</td>\n",
       "      <td>0.419955</td>\n",
       "      <td>-0.435601</td>\n",
       "      <td>-0.429146</td>\n",
       "      <td>0.343940</td>\n",
       "      <td>-0.408992</td>\n",
       "      <td>-0.343101</td>\n",
       "      <td>1.000000</td>\n",
       "    </tr>\n",
       "  </tbody>\n",
       "</table>\n",
       "</div>"
      ],
      "text/plain": [
       "               age       sex        cp  trestbps      chol       fbs  \\\n",
       "age       1.000000 -0.094962 -0.063107  0.283121  0.207216  0.119492   \n",
       "sex      -0.094962  1.000000 -0.051740 -0.057647 -0.195571  0.046022   \n",
       "cp       -0.063107 -0.051740  1.000000  0.046486 -0.072682  0.096018   \n",
       "trestbps  0.283121 -0.057647  0.046486  1.000000  0.125256  0.178125   \n",
       "chol      0.207216 -0.195571 -0.072682  0.125256  1.000000  0.011428   \n",
       "fbs       0.119492  0.046022  0.096018  0.178125  0.011428  1.000000   \n",
       "restecg  -0.111590 -0.060351  0.041561 -0.115367 -0.147602 -0.083081   \n",
       "thalach  -0.395235 -0.046439  0.293367 -0.048023 -0.005308 -0.007169   \n",
       "exang     0.093216  0.143460 -0.392937  0.068526  0.064099  0.024729   \n",
       "oldpeak   0.206040  0.098322 -0.146692  0.194600  0.050086  0.004514   \n",
       "slope    -0.164124 -0.032990  0.116854 -0.122873  0.000417 -0.058654   \n",
       "ca        0.302261  0.113060 -0.195356  0.099248  0.086878  0.144935   \n",
       "thal      0.065317  0.211452 -0.160370  0.062870  0.096810 -0.032752   \n",
       "target   -0.221476 -0.283609  0.432080 -0.146269 -0.081437 -0.026826   \n",
       "\n",
       "           restecg   thalach     exang   oldpeak     slope        ca  \\\n",
       "age      -0.111590 -0.395235  0.093216  0.206040 -0.164124  0.302261   \n",
       "sex      -0.060351 -0.046439  0.143460  0.098322 -0.032990  0.113060   \n",
       "cp        0.041561  0.293367 -0.392937 -0.146692  0.116854 -0.195356   \n",
       "trestbps -0.115367 -0.048023  0.068526  0.194600 -0.122873  0.099248   \n",
       "chol     -0.147602 -0.005308  0.064099  0.050086  0.000417  0.086878   \n",
       "fbs      -0.083081 -0.007169  0.024729  0.004514 -0.058654  0.144935   \n",
       "restecg   1.000000  0.041210 -0.068807 -0.056251  0.090402 -0.083112   \n",
       "thalach   0.041210  1.000000 -0.377411 -0.342201  0.384754 -0.228311   \n",
       "exang    -0.068807 -0.377411  1.000000  0.286766 -0.256106  0.125377   \n",
       "oldpeak  -0.056251 -0.342201  0.286766  1.000000 -0.576314  0.236560   \n",
       "slope     0.090402  0.384754 -0.256106 -0.576314  1.000000 -0.092236   \n",
       "ca       -0.083112 -0.228311  0.125377  0.236560 -0.092236  1.000000   \n",
       "thal     -0.010473 -0.094910  0.205826  0.209090 -0.103314  0.160085   \n",
       "target    0.134874  0.419955 -0.435601 -0.429146  0.343940 -0.408992   \n",
       "\n",
       "              thal    target  \n",
       "age       0.065317 -0.221476  \n",
       "sex       0.211452 -0.283609  \n",
       "cp       -0.160370  0.432080  \n",
       "trestbps  0.062870 -0.146269  \n",
       "chol      0.096810 -0.081437  \n",
       "fbs      -0.032752 -0.026826  \n",
       "restecg  -0.010473  0.134874  \n",
       "thalach  -0.094910  0.419955  \n",
       "exang     0.205826 -0.435601  \n",
       "oldpeak   0.209090 -0.429146  \n",
       "slope    -0.103314  0.343940  \n",
       "ca        0.160085 -0.408992  \n",
       "thal      1.000000 -0.343101  \n",
       "target   -0.343101  1.000000  "
      ]
     },
     "execution_count": 12,
     "metadata": {},
     "output_type": "execute_result"
    }
   ],
   "source": [
    "# Correlation Matrix to check if any two collumn are correlated and can be removed.\n",
    "df.corr()"
   ]
  },
  {
   "cell_type": "code",
   "execution_count": 13,
   "id": "6e6101fc",
   "metadata": {},
   "outputs": [],
   "source": [
    "# Defining numerical and categorical variables\n",
    "num_atr=['age', 'trestbps' , 'chol', 'thalach', 'oldpeak']\n",
    "\n",
    "cat_atr=['sex' , 'cp' , 'fbs' , 'restecg' , 'exang', 'slope', 'ca', 'thal' ]"
   ]
  },
  {
   "cell_type": "code",
   "execution_count": 14,
   "id": "9c2c9b32",
   "metadata": {},
   "outputs": [
    {
     "data": {
      "image/png": "[encoded data removed]",
      "text/plain": [
       "<Figure size 1440x1080 with 16 Axes>"
      ]
     },
     "metadata": {},
     "output_type": "display_data"
    }
   ],
   "source": [
    "# checking distribution for all the variables in the data by plotting Histograms for all the variable\n",
    "df.hist(bins=50, figsize=(20,15), color='r')\n",
    "plt.show()"
   ]
  },
  {
   "cell_type": "code",
   "execution_count": 15,
   "id": "1523a2ea",
   "metadata": {},
   "outputs": [
    {
     "data": {
      "text/plain": [
       "<AxesSubplot:>"
      ]
     },
     "execution_count": 15,
     "metadata": {},
     "output_type": "execute_result"
    },
    {
     "data": {
      "image/png": "[encoded data removed]",
      "text/plain": [
       "<Figure size 432x288 with 2 Axes>"
      ]
     },
     "metadata": {},
     "output_type": "display_data"
    }
   ],
   "source": [
    "df_corr=df.corr()\n",
    "sns.heatmap(df_corr)"
   ]
  },
  {
   "cell_type": "markdown",
   "id": "1da6a052",
   "metadata": {},
   "source": [
    "# KNN Classification Algorithm"
   ]
  },
  {
   "cell_type": "code",
   "execution_count": 16,
   "id": "4287fa95",
   "metadata": {},
   "outputs": [],
   "source": [
    "# Dividing the dataset into independent variables and target variables\n",
    "X= df.drop(['target'], axis=1)\n",
    "y= df['target']"
   ]
  },
  {
   "cell_type": "code",
   "execution_count": 17,
   "id": "b1744dd6",
   "metadata": {},
   "outputs": [],
   "source": [
    "# Dividing the data into train and test\n",
    "X_train, X_test, y_train, y_test = train_test_split(X, y, random_state=1)"
   ]
  },
  {
   "cell_type": "code",
   "execution_count": 18,
   "id": "f28ef7cf",
   "metadata": {},
   "outputs": [
    {
     "data": {
      "text/plain": [
       "array([[-0.97331169, -1.5466384 , -0.73560915, -0.0954598 ,  1.69714085],\n",
       "       [ 0.64410332,  1.11278151, -0.03937497,  0.90899374, -0.09876338],\n",
       "       [-0.54200102,  0.18776589,  0.63510189,  0.5159467 , -0.86843662],\n",
       "       ...,\n",
       "       [-2.69855437, -0.04348801, -0.82263842,  2.26282242, -0.86843662],\n",
       "       [ 0.42844799, -0.33255539,  1.26606412,  0.90899374, -0.86843662],\n",
       "       [-0.00286268,  1.11278151, -0.21343351,  0.64696238,  0.49987136]])"
      ]
     },
     "execution_count": 18,
     "metadata": {},
     "output_type": "execute_result"
    }
   ],
   "source": [
    "# Using StandardScaler for normal distribution of numerical data\n",
    "from sklearn.preprocessing import StandardScaler\n",
    "stds = StandardScaler()\n",
    "stds.fit_transform(X_train[num_atr])"
   ]
  },
  {
   "cell_type": "code",
   "execution_count": 19,
   "id": "df1a908e",
   "metadata": {},
   "outputs": [],
   "source": [
    "a1 = X_train[cat_atr]\n",
    "b1 = stds.transform(X_train[num_atr])\n",
    "\n",
    "x_train = np.hstack([a1,b1])"
   ]
  },
  {
   "cell_type": "code",
   "execution_count": 20,
   "id": "c1daa958",
   "metadata": {},
   "outputs": [
    {
     "data": {
      "text/plain": [
       "KNeighborsClassifier(metric='euclidean')"
      ]
     },
     "execution_count": 20,
     "metadata": {},
     "output_type": "execute_result"
    }
   ],
   "source": [
    "knn = KNeighborsClassifier(n_neighbors=5, metric='euclidean')\n",
    "knn.fit(x_train, y_train)"
   ]
  },
  {
   "cell_type": "code",
   "execution_count": 21,
   "id": "3cf2209c",
   "metadata": {},
   "outputs": [
    {
     "name": "stderr",
     "output_type": "stream",
     "text": [
      "C:\\Pyhton\\lib\\site-packages\\pandas\\core\\frame.py:3191: SettingWithCopyWarning: \n",
      "A value is trying to be set on a copy of a slice from a DataFrame.\n",
      "Try using .loc[row_indexer,col_indexer] = value instead\n",
      "\n",
      "See the caveats in the documentation: https://pandas.pydata.org/pandas-docs/stable/user_guide/indexing.html#returning-a-view-versus-a-copy\n",
      "  self[k1] = value[k2]\n"
     ]
    },
    {
     "data": {
      "text/html": [
       "<div>\n",
       "<style scoped>\n",
       "    .dataframe tbody tr th:only-of-type {\n",
       "        vertical-align: middle;\n",
       "    }\n",
       "\n",
       "    .dataframe tbody tr th {\n",
       "        vertical-align: top;\n",
       "    }\n",
       "\n",
       "    .dataframe thead th {\n",
       "        text-align: right;\n",
       "    }\n",
       "</style>\n",
       "<table border=\"1\" class=\"dataframe\">\n",
       "  <thead>\n",
       "    <tr style=\"text-align: right;\">\n",
       "      <th></th>\n",
       "      <th>sex</th>\n",
       "      <th>cp</th>\n",
       "      <th>fbs</th>\n",
       "      <th>restecg</th>\n",
       "      <th>exang</th>\n",
       "      <th>slope</th>\n",
       "      <th>ca</th>\n",
       "      <th>thal</th>\n",
       "    </tr>\n",
       "  </thead>\n",
       "  <tbody>\n",
       "    <tr>\n",
       "      <th>174</th>\n",
       "      <td>1</td>\n",
       "      <td>0</td>\n",
       "      <td>0</td>\n",
       "      <td>0</td>\n",
       "      <td>1</td>\n",
       "      <td>1</td>\n",
       "      <td>2</td>\n",
       "      <td>2</td>\n",
       "    </tr>\n",
       "    <tr>\n",
       "      <th>88</th>\n",
       "      <td>0</td>\n",
       "      <td>2</td>\n",
       "      <td>0</td>\n",
       "      <td>1</td>\n",
       "      <td>0</td>\n",
       "      <td>1</td>\n",
       "      <td>0</td>\n",
       "      <td>1</td>\n",
       "    </tr>\n",
       "    <tr>\n",
       "      <th>163</th>\n",
       "      <td>1</td>\n",
       "      <td>2</td>\n",
       "      <td>0</td>\n",
       "      <td>1</td>\n",
       "      <td>0</td>\n",
       "      <td>2</td>\n",
       "      <td>4</td>\n",
       "      <td>1</td>\n",
       "    </tr>\n",
       "    <tr>\n",
       "      <th>243</th>\n",
       "      <td>1</td>\n",
       "      <td>0</td>\n",
       "      <td>0</td>\n",
       "      <td>1</td>\n",
       "      <td>1</td>\n",
       "      <td>1</td>\n",
       "      <td>1</td>\n",
       "      <td>2</td>\n",
       "    </tr>\n",
       "    <tr>\n",
       "      <th>110</th>\n",
       "      <td>0</td>\n",
       "      <td>0</td>\n",
       "      <td>0</td>\n",
       "      <td>1</td>\n",
       "      <td>1</td>\n",
       "      <td>2</td>\n",
       "      <td>0</td>\n",
       "      <td>1</td>\n",
       "    </tr>\n",
       "  </tbody>\n",
       "</table>\n",
       "</div>"
      ],
      "text/plain": [
       "     sex  cp  fbs  restecg  exang  slope  ca  thal\n",
       "174    1   0    0        0      1      1   2     2\n",
       "88     0   2    0        1      0      1   0     1\n",
       "163    1   2    0        1      0      2   4     1\n",
       "243    1   0    0        1      1      1   1     2\n",
       "110    0   0    0        1      1      2   0     1"
      ]
     },
     "execution_count": 21,
     "metadata": {},
     "output_type": "execute_result"
    }
   ],
   "source": [
    "# As testing dataset also contain categorical values it also needs to be converted into numerical values to apply KNN classifier\n",
    "# Using LabelEncoder to convert categorical values of testing into numerical values\n",
    "from sklearn.preprocessing import LabelEncoder\n",
    "le = LabelEncoder()\n",
    "X_test[cat_atr] = X_test[cat_atr].apply(le.fit_transform)\n",
    "X_test[cat_atr].head()"
   ]
  },
  {
   "cell_type": "code",
   "execution_count": 22,
   "id": "92758786",
   "metadata": {},
   "outputs": [
    {
     "data": {
      "text/plain": [
       "array([[ 0.53997783, -0.22971562, -0.85384966, -0.69416911,  1.13242129],\n",
       "       [-0.19503677, -1.34171482, -0.72839277,  0.45271899,  0.42188244],\n",
       "       [-2.1550757 ,  0.21508406, -1.33999509,  1.1143852 , -0.99919525],\n",
       "       [ 0.17247053,  0.9934835 ,  0.21253387, -2.63505667,  0.06661302],\n",
       "       [ 1.02998756,  2.55028238,  1.01232151,  0.27627466, -0.99919525],\n",
       "       [-1.66506596, -0.78571522,  0.54185819,  0.62916331, -0.99919525],\n",
       "       [ 0.53997783,  0.60428378,  0.33799075, -0.25305831,  1.48769071],\n",
       "       [-2.03257326,  0.21508406, -0.63430011,  0.1880525 , -0.99919525],\n",
       "       [ 0.29497296,  0.10388414,  0.91822885,  0.1880525 , -0.99919525],\n",
       "       [-0.3175392 , -0.22971562, -0.99498865,  0.1880525 ,  0.06661302],\n",
       "       [ 0.4174754 ,  1.99428278,  0.43208342,  0.49683007, -0.82156054],\n",
       "       [ 1.27499243, -0.78571522,  0.65163297,  0.14394142, -0.64392583],\n",
       "       [ 1.02998756, -0.50771542,  0.76140774, -0.73828019,  0.59951715],\n",
       "       [ 0.17247053, -0.34091554,  0.66731508,  0.49683007, -0.99919525],\n",
       "       [ 1.39749486,  0.9934835 ,  0.2595802 ,  1.07027412, -0.99919525],\n",
       "       [ 1.02998756, -0.22971562,  0.66731508, -1.13527992,  0.77715186],\n",
       "       [-0.93005137, -0.22971562,  0.22821598, -0.38539155, -0.82156054],\n",
       "       [-0.93005137, -1.34171482, -0.49316111,  0.8938298 , -0.11102169],\n",
       "       [ 0.66248026,  0.60428378,  0.73004352, -0.07661398, -0.11102169],\n",
       "       [-0.56254407,  0.32628398,  0.00866643,  1.68782925, -0.99919525],\n",
       "       [-0.56254407, -1.34171482, -1.33999509, -1.09116884, -0.46629112],\n",
       "       [ 1.39749486, -1.06371502,  4.76034597,  0.54094115,  0.42188244],\n",
       "       [-0.19503677, -1.45291474,  0.10275909,  0.84971871, -0.99919525],\n",
       "       [-1.7875684 , -1.2305149 , -0.16383679,  1.37905168, -0.99919525],\n",
       "       [-0.80754893, -0.22971562,  0.08707698,  1.02616304, -0.46629112],\n",
       "       [-0.07253434, -0.1185157 ,  1.45142061, -0.69416911,  0.06661302],\n",
       "       [-1.54256353,  0.88228358, -0.21088312,  1.02616304,  0.33306508],\n",
       "       [ 0.90748513, -0.22971562, -0.10110835, -0.0325029 ,  0.24424773],\n",
       "       [-0.19503677, -0.78571522, -1.13612765, -1.53227965,  0.24424773],\n",
       "       [-0.6850465 , -0.78571522, -0.25792945,  0.62916331, -0.02220434],\n",
       "       [ 0.90748513, -0.56331538, -0.99498865, -0.51772479, -0.99919525],\n",
       "       [-0.93005137, -0.22971562, -0.06974412,  0.09983034, -0.99919525],\n",
       "       [-2.64508543, -0.89691514, -1.23022032,  1.15849628, -0.99919525],\n",
       "       [ 0.17247053, -0.22971562, -0.38338634,  1.15849628, -0.99919525],\n",
       "       [ 0.0499681 , -0.22971562, -0.06974412, -0.25305831, -0.46629112],\n",
       "       [-0.80754893, -0.78571522, -1.13612765, -0.38539155,  0.77715186],\n",
       "       [ 1.76500216, -0.22971562,  0.96527518, -1.70872397,  1.13242129],\n",
       "       [ 1.02998756,  0.32628398,  0.82413619, -0.65005803, -0.82156054],\n",
       "       [ 0.0499681 , -0.22971562,  0.35367286, -1.97339046,  0.42188244],\n",
       "       [-0.19503677, -0.56331538,  0.08707698, -1.70872397,  0.95478658],\n",
       "       [ 0.0499681 ,  3.66228158,  0.43208342, -0.65005803,  2.55349898],\n",
       "       [-2.522583  , -0.6745153 , -1.07339921,  1.15849628, -0.99919525],\n",
       "       [ 0.17247053,  1.10468342, -0.44611478,  0.71738547, -0.99919525],\n",
       "       [ 0.4174754 ,  1.99428278,  1.02800362, -0.34128047,  2.02059485],\n",
       "       [ 0.17247053, -0.78571522,  1.46710272,  0.67327439, -0.46629112],\n",
       "       [ 0.0499681 , -0.22971562, -0.618618  ,  0.67327439, -0.99919525],\n",
       "       [ 0.7849827 , -0.78571522,  0.32230864, -1.97339046,  0.24424773],\n",
       "       [-0.07253434, -0.34091554, -0.86953177, -0.78239128,  0.77715186],\n",
       "       [-0.19503677, -0.1185157 ,  0.43208342,  0.49683007, -0.99919525],\n",
       "       [ 0.29497296, -0.78571522,  1.24755317,  1.07027412, -0.99919525],\n",
       "       [-0.19503677, -0.78571522, -0.0383799 , -0.0325029 , -0.64392583],\n",
       "       [ 0.90748513,  0.60428378, -0.43043267,  0.09983034,  1.04360393],\n",
       "       [-0.44004163, -0.89691514, -1.16749187,  1.86427357, -0.99919525],\n",
       "       [ 1.64249973,  0.32628398, -0.10110835, -0.07661398,  0.77715186],\n",
       "       [-1.29755867,  0.21508406, -0.38338634,  0.1880525 , -0.82156054],\n",
       "       [ 0.29497296, -0.50771542, -0.63430011, -0.16483614, -0.64392583],\n",
       "       [ 0.53997783,  0.32628398, -1.18317398,  0.32038574,  1.66532542],\n",
       "       [-0.44004163, -0.34091554, -0.86953177,  1.59960709, -0.99919525],\n",
       "       [-0.19503677,  3.2174819 ,  0.35367286,  2.08482898, -0.99919525],\n",
       "       [ 0.90748513,  0.88228358,  2.29825459,  0.27627466,  2.55349898],\n",
       "       [-0.56254407,  0.32628398,  0.60458664,  1.1143852 ,  0.42188244],\n",
       "       [-0.07253434, -0.1185157 ,  1.2789174 ,  0.80560763,  0.06661302],\n",
       "       [ 1.51999729, -0.78571522, -0.77543911, -1.44405749,  0.33306508],\n",
       "       [-1.17505623,  0.21508406, -0.27361156,  0.1880525 , -0.99919525],\n",
       "       [ 0.0499681 , -0.1185157 , -1.19885609, -1.8851683 ,  0.86596922],\n",
       "       [ 0.0499681 , -0.78571522, -1.0577171 ,  0.62916331,  0.68833451],\n",
       "       [ 0.90748513,  0.32628398, -1.15180976, -0.16483614,  2.55349898],\n",
       "       [ 1.15248999,  1.43828318,  1.56119539,  0.14394142, -0.28865641],\n",
       "       [ 1.51999729,  0.54868382, -1.0577171 , -0.29716939,  2.02059485],\n",
       "       [ 0.29497296, -1.89771442, -0.19520101, -1.13527992, -0.11102169],\n",
       "       [-0.6850465 ,  0.54868382, -0.94794232, -0.9588356 , -0.19983905],\n",
       "       [-1.17505623,  0.32628398,  0.79277196, -1.22350208,  0.59951715],\n",
       "       [ 1.27499243,  0.88228358, -0.54020744, -1.48816857,  1.310056  ],\n",
       "       [-1.54256353, -0.78571522, -1.30863087, -1.22350208,  1.22123864],\n",
       "       [ 1.27499243,  1.43828318, -0.50884322, -0.42950263,  1.04360393],\n",
       "       [ 0.66248026, -0.22971562,  1.09073207,  0.93794088, -0.99919525]])"
      ]
     },
     "execution_count": 22,
     "metadata": {},
     "output_type": "execute_result"
    }
   ],
   "source": [
    "# Using StandardScaler for normal distribution of numerical data in testing data\n",
    "stds.fit_transform(X_test[num_atr])"
   ]
  },
  {
   "cell_type": "code",
   "execution_count": 23,
   "id": "eb96567b",
   "metadata": {},
   "outputs": [],
   "source": [
    "a2 = X_test[cat_atr]\n",
    "b2 = stds.transform(X_test[num_atr])\n",
    "\n",
    "x_test = np.hstack([a2,b2])"
   ]
  },
  {
   "cell_type": "code",
   "execution_count": 24,
   "id": "9bc16967",
   "metadata": {},
   "outputs": [],
   "source": [
    "# predicting the values now using testing data\n",
    "y_pred = knn.predict(x_test)"
   ]
  },
  {
   "cell_type": "code",
   "execution_count": 25,
   "id": "20afa4ac",
   "metadata": {},
   "outputs": [
    {
     "data": {
      "text/plain": [
       "array([0, 1, 1, 0, 1, 1, 0, 1, 1, 1, 1, 1, 1, 1, 1, 0, 1, 1, 1, 1, 1, 1,\n",
       "       1, 1, 1, 0, 1, 0, 1, 1, 1, 0, 1, 1, 0, 0, 0, 1, 0, 0, 0, 1, 1, 0,\n",
       "       1, 1, 0, 0, 1, 1, 1, 1, 1, 0, 1, 1, 1, 1, 1, 0, 1, 1, 1, 1, 0, 1,\n",
       "       0, 1, 0, 1, 1, 0, 0, 0, 1, 1], dtype=int64)"
      ]
     },
     "execution_count": 25,
     "metadata": {},
     "output_type": "execute_result"
    }
   ],
   "source": [
    "#Checking the predicted values\n",
    "y_pred"
   ]
  },
  {
   "cell_type": "markdown",
   "id": "42e5e915",
   "metadata": {},
   "source": [
    "# Performance measures for KNN Classifier Algorithm"
   ]
  },
  {
   "cell_type": "code",
   "execution_count": 26,
   "id": "f9110b63",
   "metadata": {},
   "outputs": [
    {
     "data": {
      "text/plain": [
       "array([[22, 14],\n",
       "       [ 2, 38]], dtype=int64)"
      ]
     },
     "execution_count": 26,
     "metadata": {},
     "output_type": "execute_result"
    }
   ],
   "source": [
    "#Using confussion matrix to compare predicted values of target varable with testing values of target variable\n",
    "confusion_matrix(y_test, y_pred)"
   ]
  },
  {
   "cell_type": "code",
   "execution_count": 27,
   "id": "5adeb1e6",
   "metadata": {},
   "outputs": [
    {
     "data": {
      "text/plain": [
       "0.7894736842105263"
      ]
     },
     "execution_count": 27,
     "metadata": {},
     "output_type": "execute_result"
    }
   ],
   "source": [
    "# Checking the accuracy of algorithm\n",
    "from sklearn.metrics import accuracy_score\n",
    "accuracy_score(y_test, y_pred)\n",
    "# Getting 78.9% accuracy"
   ]
  },
  {
   "cell_type": "code",
   "execution_count": 28,
   "id": "4ba7c5d6",
   "metadata": {},
   "outputs": [
    {
     "data": {
      "image/png": "[encoded data removed]",
      "text/plain": [
       "<Figure size 720x432 with 1 Axes>"
      ]
     },
     "metadata": {},
     "output_type": "display_data"
    },
    {
     "name": "stdout",
     "output_type": "stream",
     "text": [
      "Minimum error:- 0.1842105263157895 at K = 18\n"
     ]
    }
   ],
   "source": [
    "# Plotting graph for 'Error Rate vs. K Value' to check most accurate K value\n",
    "error_rate = []\n",
    "for i in range(1,40):\n",
    " knn = KNeighborsClassifier(n_neighbors=i)\n",
    " knn.fit(x_train,y_train)\n",
    " pred_i = knn.predict(x_test)\n",
    " #print (pred_i)\n",
    " #print (1-accuracy_score(y_test, pred_i))\n",
    " error_rate.append(1-accuracy_score(y_test, pred_i))\n",
    "\n",
    "plt.figure(figsize=(10,6))\n",
    "plt.plot(range(1,40),error_rate,color='blue', linestyle='dashed', \n",
    "         marker='o',markerfacecolor='red', markersize=10)\n",
    "plt.title('Error Rate vs. K Value')\n",
    "plt.xlabel('K')\n",
    "plt.ylabel('Error Rate')\n",
    "plt.show()\n",
    "print(\"Minimum error:-\",min(error_rate),\"at K =\",error_rate.index(min(error_rate))+1)"
   ]
  },
  {
   "cell_type": "code",
   "execution_count": 29,
   "id": "d2307ea1",
   "metadata": {},
   "outputs": [
    {
     "data": {
      "text/plain": [
       "KNeighborsClassifier(metric='euclidean', n_neighbors=18)"
      ]
     },
     "execution_count": 29,
     "metadata": {},
     "output_type": "execute_result"
    }
   ],
   "source": [
    "knn = KNeighborsClassifier(n_neighbors=18, metric='euclidean')\n",
    "knn.fit(x_train, y_train)"
   ]
  },
  {
   "cell_type": "code",
   "execution_count": 30,
   "id": "4dc9edd6",
   "metadata": {},
   "outputs": [],
   "source": [
    "y_pred = knn.predict(x_test)"
   ]
  },
  {
   "cell_type": "code",
   "execution_count": 31,
   "id": "26e53ac4",
   "metadata": {},
   "outputs": [
    {
     "data": {
      "text/plain": [
       "0.8157894736842105"
      ]
     },
     "execution_count": 31,
     "metadata": {},
     "output_type": "execute_result"
    }
   ],
   "source": [
    "# Checking the accuracy of algorithm\n",
    "from sklearn.metrics import accuracy_score\n",
    "accuracy_score(y_test, y_pred)\n",
    "# Accuracy improved from 78.9% to 81.5%"
   ]
  },
  {
   "cell_type": "markdown",
   "id": "21f796c1",
   "metadata": {},
   "source": [
    "# Decision Tree Classification"
   ]
  },
  {
   "cell_type": "code",
   "execution_count": 32,
   "id": "9f3fe112",
   "metadata": {},
   "outputs": [],
   "source": [
    "from sklearn.model_selection import train_test_split\n",
    "from sklearn.preprocessing import StandardScaler\n",
    "from sklearn.tree import DecisionTreeClassifier\n",
    "from sklearn.tree import export_graphviz\n",
    "from sklearn.datasets import load_iris\n",
    "from sklearn.tree import plot_tree\n",
    "import matplotlib.pyplot as plt\n",
    "from IPython.core.interactiveshell import InteractiveShell\n",
    "InteractiveShell.ast_node_interactivity = \"all\""
   ]
  },
  {
   "cell_type": "code",
   "execution_count": 33,
   "id": "36d31a1b",
   "metadata": {},
   "outputs": [],
   "source": [
    "X= df.drop(['target'], axis=1)\n",
    "y= df['target']\n",
    "\n",
    "\n",
    "X_train,X_test,y_train,y_test=train_test_split(X,y,test_size=0.3,random_state=1)"
   ]
  },
  {
   "cell_type": "code",
   "execution_count": 34,
   "id": "66ca5af0",
   "metadata": {},
   "outputs": [
    {
     "data": {
      "text/plain": [
       "(302,)"
      ]
     },
     "execution_count": 34,
     "metadata": {},
     "output_type": "execute_result"
    }
   ],
   "source": [
    "y.shape"
   ]
  },
  {
   "cell_type": "code",
   "execution_count": 35,
   "id": "0d69e5c3",
   "metadata": {},
   "outputs": [
    {
     "data": {
      "text/plain": [
       "(302, 13)"
      ]
     },
     "execution_count": 35,
     "metadata": {},
     "output_type": "execute_result"
    }
   ],
   "source": [
    "X.shape"
   ]
  },
  {
   "cell_type": "code",
   "execution_count": 36,
   "id": "e3e5e8de",
   "metadata": {},
   "outputs": [],
   "source": [
    "from sklearn.preprocessing import LabelEncoder"
   ]
  },
  {
   "cell_type": "code",
   "execution_count": 37,
   "id": "ac41949d",
   "metadata": {},
   "outputs": [
    {
     "name": "stderr",
     "output_type": "stream",
     "text": [
      "C:\\Pyhton\\lib\\site-packages\\pandas\\core\\frame.py:3191: SettingWithCopyWarning: \n",
      "A value is trying to be set on a copy of a slice from a DataFrame.\n",
      "Try using .loc[row_indexer,col_indexer] = value instead\n",
      "\n",
      "See the caveats in the documentation: https://pandas.pydata.org/pandas-docs/stable/user_guide/indexing.html#returning-a-view-versus-a-copy\n",
      "  self[k1] = value[k2]\n"
     ]
    }
   ],
   "source": [
    "le = LabelEncoder()\n",
    "X_train[cat_atr] = X_train[cat_atr].apply(le.fit_transform)"
   ]
  },
  {
   "cell_type": "code",
   "execution_count": 38,
   "id": "f020862d",
   "metadata": {},
   "outputs": [
    {
     "data": {
      "text/html": [
       "<div>\n",
       "<style scoped>\n",
       "    .dataframe tbody tr th:only-of-type {\n",
       "        vertical-align: middle;\n",
       "    }\n",
       "\n",
       "    .dataframe tbody tr th {\n",
       "        vertical-align: top;\n",
       "    }\n",
       "\n",
       "    .dataframe thead th {\n",
       "        text-align: right;\n",
       "    }\n",
       "</style>\n",
       "<table border=\"1\" class=\"dataframe\">\n",
       "  <thead>\n",
       "    <tr style=\"text-align: right;\">\n",
       "      <th></th>\n",
       "      <th>sex</th>\n",
       "      <th>cp</th>\n",
       "      <th>fbs</th>\n",
       "      <th>restecg</th>\n",
       "      <th>exang</th>\n",
       "      <th>slope</th>\n",
       "      <th>ca</th>\n",
       "      <th>thal</th>\n",
       "    </tr>\n",
       "  </thead>\n",
       "  <tbody>\n",
       "    <tr>\n",
       "      <th>146</th>\n",
       "      <td>0</td>\n",
       "      <td>2</td>\n",
       "      <td>0</td>\n",
       "      <td>1</td>\n",
       "      <td>0</td>\n",
       "      <td>1</td>\n",
       "      <td>1</td>\n",
       "      <td>2</td>\n",
       "    </tr>\n",
       "    <tr>\n",
       "      <th>202</th>\n",
       "      <td>1</td>\n",
       "      <td>0</td>\n",
       "      <td>0</td>\n",
       "      <td>0</td>\n",
       "      <td>1</td>\n",
       "      <td>2</td>\n",
       "      <td>0</td>\n",
       "      <td>3</td>\n",
       "    </tr>\n",
       "    <tr>\n",
       "      <th>292</th>\n",
       "      <td>0</td>\n",
       "      <td>0</td>\n",
       "      <td>1</td>\n",
       "      <td>0</td>\n",
       "      <td>1</td>\n",
       "      <td>1</td>\n",
       "      <td>2</td>\n",
       "      <td>1</td>\n",
       "    </tr>\n",
       "    <tr>\n",
       "      <th>276</th>\n",
       "      <td>1</td>\n",
       "      <td>0</td>\n",
       "      <td>0</td>\n",
       "      <td>1</td>\n",
       "      <td>0</td>\n",
       "      <td>1</td>\n",
       "      <td>1</td>\n",
       "      <td>3</td>\n",
       "    </tr>\n",
       "    <tr>\n",
       "      <th>19</th>\n",
       "      <td>0</td>\n",
       "      <td>3</td>\n",
       "      <td>0</td>\n",
       "      <td>1</td>\n",
       "      <td>0</td>\n",
       "      <td>2</td>\n",
       "      <td>2</td>\n",
       "      <td>2</td>\n",
       "    </tr>\n",
       "  </tbody>\n",
       "</table>\n",
       "</div>"
      ],
      "text/plain": [
       "     sex  cp  fbs  restecg  exang  slope  ca  thal\n",
       "146    0   2    0        1      0      1   1     2\n",
       "202    1   0    0        0      1      2   0     3\n",
       "292    0   0    1        0      1      1   2     1\n",
       "276    1   0    0        1      0      1   1     3\n",
       "19     0   3    0        1      0      2   2     2"
      ]
     },
     "execution_count": 38,
     "metadata": {},
     "output_type": "execute_result"
    }
   ],
   "source": [
    "X_train[cat_atr].head()"
   ]
  },
  {
   "cell_type": "code",
   "execution_count": 39,
   "id": "94866a87",
   "metadata": {},
   "outputs": [
    {
     "data": {
      "text/plain": [
       "array([[-1.06167727, -0.7213128 , -0.00545977, -0.05360584, -0.62827225],\n",
       "       [ 0.43317242,  1.1207084 ,  0.60315022, -1.71311019, -0.19842321],\n",
       "       [ 0.43317242,  2.27197164, -0.37497298, -0.18461934,  1.52097296],\n",
       "       ...,\n",
       "       [-2.66330193, -0.03055485, -0.83143048,  2.26096602, -0.88618167],\n",
       "       [ 0.43317242, -0.31837067,  1.25523236,  0.90715984, -0.88618167],\n",
       "       [ 0.00607251,  1.1207084 , -0.22282048,  0.64513283,  0.48933526]])"
      ]
     },
     "execution_count": 39,
     "metadata": {},
     "output_type": "execute_result"
    }
   ],
   "source": [
    "ss = StandardScaler()\n",
    "ss.fit_transform(X_train[num_atr])"
   ]
  },
  {
   "cell_type": "code",
   "execution_count": 40,
   "id": "20b48e2d",
   "metadata": {},
   "outputs": [
    {
     "data": {
      "text/plain": [
       "(211, 13)"
      ]
     },
     "execution_count": 40,
     "metadata": {},
     "output_type": "execute_result"
    }
   ],
   "source": [
    "a = X_train[cat_atr]\n",
    "b = ss.transform(X_train[num_atr])\n",
    "\n",
    "Xtr = np.hstack([a,b])\n",
    "Xtr.shape "
   ]
  },
  {
   "cell_type": "code",
   "execution_count": 41,
   "id": "487d770f",
   "metadata": {},
   "outputs": [
    {
     "data": {
      "text/plain": [
       "array([[ 5.51971101e-01, -2.31533197e-01, -8.15441790e-01,\n",
       "        -7.06282063e-01,  1.15480839e+00],\n",
       "       [-1.88511015e-01, -1.36430314e+00, -6.85882292e-01,\n",
       "         4.38281883e-01,  4.59439895e-01],\n",
       "       [-2.16312999e+00,  2.21574780e-01, -1.31748485e+00,\n",
       "         1.09860724e+00, -9.31297085e-01],\n",
       "       [ 1.81730043e-01,  1.01451374e+00,  2.85813949e-01,\n",
       "        -2.64323643e+00,  1.11755650e-01],\n",
       "       [ 1.04562584e+00,  2.60039166e+00,  1.11175575e+00,\n",
       "         2.62195122e-01, -9.31297085e-01],\n",
       "       [-1.66947525e+00, -7.97918167e-01,  6.25907634e-01,\n",
       "         6.14368644e-01, -9.31297085e-01],\n",
       "       [ 5.51971101e-01,  6.18044259e-01,  4.15373448e-01,\n",
       "        -2.66065161e-01,  1.50249263e+00],\n",
       "       [-2.03971630e+00,  2.21574780e-01, -5.88712668e-01,\n",
       "         1.74151742e-01, -9.31297085e-01],\n",
       "       [ 3.05143729e-01,  1.08297786e-01,  1.01458613e+00,\n",
       "         1.74151742e-01, -9.31297085e-01],\n",
       "       [-3.11924701e-01, -2.31533197e-01, -9.61196227e-01,\n",
       "         1.74151742e-01,  1.11755650e-01],\n",
       "       [ 4.28557415e-01,  2.03400669e+00,  5.12543072e-01,\n",
       "         4.82303573e-01, -7.57454963e-01],\n",
       "       [ 1.29245322e+00, -7.97918167e-01,  7.39272195e-01,\n",
       "         1.30130051e-01, -5.83612840e-01],\n",
       "       [ 1.04562584e+00, -5.14725682e-01,  8.52636756e-01,\n",
       "        -7.50303753e-01,  6.33282018e-01],\n",
       "       [ 1.81730043e-01, -3.44810191e-01,  7.55467132e-01,\n",
       "         4.82303573e-01, -9.31297085e-01],\n",
       "       [ 1.41586690e+00,  1.01451374e+00,  3.34398761e-01,\n",
       "         1.05458555e+00, -9.31297085e-01],\n",
       "       [ 1.04562584e+00, -2.31533197e-01,  7.55467132e-01,\n",
       "        -1.14649897e+00,  8.07124141e-01],\n",
       "       [-9.28993130e-01, -2.31533197e-01,  3.02008887e-01,\n",
       "        -3.98130231e-01, -7.57454963e-01],\n",
       "       [-9.28993130e-01, -1.36430314e+00, -4.42958231e-01,\n",
       "         8.78498785e-01, -6.20864724e-02],\n",
       "       [ 6.75384787e-01,  6.18044259e-01,  8.20246882e-01,\n",
       "        -8.99783998e-02, -6.20864724e-02],\n",
       "       [-5.58752073e-01,  3.34851774e-01,  7.52797637e-02,\n",
       "         1.67088921e+00, -9.31297085e-01],\n",
       "       [-5.58752073e-01, -1.36430314e+00, -1.31748485e+00,\n",
       "        -1.10247728e+00, -4.09770718e-01],\n",
       "       [ 1.41586690e+00, -1.08111065e+00,  4.98234578e+00,\n",
       "         5.26325263e-01,  4.59439895e-01],\n",
       "       [-1.88511015e-01, -1.47758013e+00,  1.72449388e-01,\n",
       "         8.34477095e-01, -9.31297085e-01],\n",
       "       [-1.79288893e+00, -1.25102614e+00, -1.02864547e-01,\n",
       "         1.36273738e+00, -9.31297085e-01],\n",
       "       [-8.05579444e-01, -2.31533197e-01,  1.56254450e-01,\n",
       "         1.01056386e+00, -4.09770718e-01],\n",
       "       [-6.50973288e-02, -1.18256203e-01,  1.56521400e+00,\n",
       "        -7.06282063e-01,  1.11755650e-01],\n",
       "       [-1.54606156e+00,  9.01236745e-01, -1.51449359e-01,\n",
       "         1.01056386e+00,  3.72518834e-01],\n",
       "       [ 9.22212159e-01, -2.31533197e-01, -3.80847977e-02,\n",
       "        -4.59567096e-02,  2.85597773e-01],\n",
       "       [-1.88511015e-01, -7.97918167e-01, -1.10695066e+00,\n",
       "        -1.54269418e+00,  2.85597773e-01],\n",
       "       [-6.82165759e-01, -7.97918167e-01, -2.00034171e-01,\n",
       "         6.14368644e-01,  2.48345889e-02],\n",
       "       [ 9.22212159e-01, -5.71364179e-01, -9.61196227e-01,\n",
       "        -5.30195302e-01, -9.31297085e-01],\n",
       "       [-9.28993130e-01, -2.31533197e-01, -5.69492302e-03,\n",
       "         8.61083611e-02, -9.31297085e-01],\n",
       "       [-2.65678473e+00, -9.11195162e-01, -1.20412029e+00,\n",
       "         1.14262893e+00, -9.31297085e-01],\n",
       "       [ 1.81730043e-01, -2.31533197e-01, -3.29593670e-01,\n",
       "         1.14262893e+00, -9.31297085e-01],\n",
       "       [ 5.83163571e-02, -2.31533197e-01, -5.69492302e-03,\n",
       "        -2.66065161e-01, -4.09770718e-01],\n",
       "       [-8.05579444e-01, -7.97918167e-01, -1.10695066e+00,\n",
       "        -3.98130231e-01,  8.07124141e-01],\n",
       "       [ 1.78610796e+00, -2.31533197e-01,  1.06317094e+00,\n",
       "        -1.71878094e+00,  1.15480839e+00],\n",
       "       [ 1.04562584e+00,  3.34851774e-01,  9.17416506e-01,\n",
       "        -6.62260373e-01, -7.57454963e-01],\n",
       "       [ 5.83163571e-02, -2.31533197e-01,  4.31568385e-01,\n",
       "        -1.98291108e+00,  4.59439895e-01],\n",
       "       [-1.88511015e-01, -5.71364179e-01,  1.56254450e-01,\n",
       "        -1.71878094e+00,  9.80966263e-01],\n",
       "       [ 5.83163571e-02,  3.73316160e+00,  5.12543072e-01,\n",
       "        -6.62260373e-01,  2.54554537e+00],\n",
       "       [-2.53337105e+00, -6.84641173e-01, -1.04217091e+00,\n",
       "         1.14262893e+00, -9.31297085e-01],\n",
       "       [ 1.81730043e-01,  1.12779073e+00, -3.94373419e-01,\n",
       "         7.02412024e-01, -9.31297085e-01],\n",
       "       [ 4.28557415e-01,  2.03400669e+00,  1.12795069e+00,\n",
       "        -3.54108541e-01,  2.02401900e+00],\n",
       "       [ 1.81730043e-01, -7.97918167e-01,  1.58140894e+00,\n",
       "         6.58390334e-01, -4.09770718e-01],\n",
       "       [ 5.83163571e-02, -2.31533197e-01, -5.72517730e-01,\n",
       "         6.58390334e-01, -9.31297085e-01],\n",
       "       [ 7.98798473e-01, -7.97918167e-01,  3.99178511e-01,\n",
       "        -1.98291108e+00,  2.85597773e-01],\n",
       "       [-6.50973288e-02, -3.44810191e-01, -8.31636728e-01,\n",
       "        -7.94325444e-01,  8.07124141e-01],\n",
       "       [-1.88511015e-01, -1.18256203e-01,  5.12543072e-01,\n",
       "         4.82303573e-01, -9.31297085e-01],\n",
       "       [ 3.05143729e-01, -7.97918167e-01,  1.35467981e+00,\n",
       "         1.05458555e+00, -9.31297085e-01],\n",
       "       [-1.88511015e-01, -7.97918167e-01,  2.66949517e-02,\n",
       "        -4.59567096e-02, -5.83612840e-01],\n",
       "       [ 9.22212159e-01,  6.18044259e-01, -3.78178482e-01,\n",
       "         8.61083611e-02,  1.06788732e+00],\n",
       "       [-4.35338387e-01, -9.11195162e-01, -1.13934054e+00,\n",
       "         1.84697597e+00, -9.31297085e-01],\n",
       "       [ 1.66269427e+00,  3.34851774e-01, -3.80847977e-02,\n",
       "        -8.99783998e-02,  8.07124141e-01],\n",
       "       [-1.29923419e+00,  2.21574780e-01, -3.29593670e-01,\n",
       "         1.74151742e-01, -7.57454963e-01],\n",
       "       [ 3.05143729e-01, -5.14725682e-01, -5.88712668e-01,\n",
       "        -1.78021780e-01, -5.83612840e-01],\n",
       "       [ 5.51971101e-01,  3.34851774e-01, -1.15553547e+00,\n",
       "         3.06216812e-01,  1.67633475e+00],\n",
       "       [-4.35338387e-01, -3.44810191e-01, -8.31636728e-01,\n",
       "         1.58284583e+00, -9.31297085e-01],\n",
       "       [-1.88511015e-01,  3.28005362e+00,  4.31568385e-01,\n",
       "         2.06708442e+00, -9.31297085e-01],\n",
       "       [ 9.22212159e-01,  9.01236745e-01,  2.43974062e+00,\n",
       "         2.62195122e-01,  2.54554537e+00],\n",
       "       [-5.58752073e-01,  3.34851774e-01,  6.90687383e-01,\n",
       "         1.09860724e+00,  4.59439895e-01],\n",
       "       [-6.50973288e-02, -1.18256203e-01,  1.38706969e+00,\n",
       "         7.90455405e-01,  1.11755650e-01],\n",
       "       [ 1.53928059e+00, -7.97918167e-01, -7.34467104e-01,\n",
       "        -1.45465080e+00,  3.72518834e-01],\n",
       "       [-1.17582050e+00,  2.21574780e-01, -2.16229109e-01,\n",
       "         1.74151742e-01, -9.31297085e-01],\n",
       "       [ 5.83163571e-02, -1.18256203e-01, -1.17173041e+00,\n",
       "        -1.89486770e+00,  8.94045202e-01],\n",
       "       [ 5.83163571e-02, -7.97918167e-01, -1.02597598e+00,\n",
       "         6.14368644e-01,  7.20203079e-01],\n",
       "       [ 9.22212159e-01,  3.34851774e-01, -1.12314560e+00,\n",
       "        -1.78021780e-01,  2.54554537e+00],\n",
       "       [ 1.16903953e+00,  1.46762172e+00,  1.67857856e+00,\n",
       "         1.30130051e-01, -2.35928595e-01],\n",
       "       [ 1.53928059e+00,  5.61405762e-01, -1.02597598e+00,\n",
       "        -3.10086851e-01,  2.02401900e+00],\n",
       "       [ 3.05143729e-01, -1.93068811e+00, -1.35254422e-01,\n",
       "        -1.14649897e+00, -6.20864724e-02],\n",
       "       [-6.82165759e-01,  5.61405762e-01, -9.12611414e-01,\n",
       "        -9.70412204e-01, -1.49007534e-01],\n",
       "       [-1.17582050e+00,  3.34851774e-01,  8.85026631e-01,\n",
       "        -1.23454235e+00,  6.33282018e-01],\n",
       "       [ 1.29245322e+00,  9.01236745e-01, -4.91543043e-01,\n",
       "        -1.49867249e+00,  1.32865051e+00],\n",
       "       [-1.54606156e+00, -7.97918167e-01, -1.28509497e+00,\n",
       "        -1.23454235e+00,  1.24172945e+00],\n",
       "       [ 1.29245322e+00,  1.46762172e+00, -4.59153169e-01,\n",
       "        -4.42151922e-01,  1.06788732e+00],\n",
       "       [ 6.75384787e-01, -2.31533197e-01,  1.19273044e+00,\n",
       "         9.22520476e-01, -9.31297085e-01],\n",
       "       [-1.29923419e+00, -1.70413412e+00, -7.83051916e-01,\n",
       "        -1.93501935e-03,  1.67633475e+00],\n",
       "       [ 5.51971101e-01,  9.01236745e-01, -2.64813921e-01,\n",
       "         1.01056386e+00, -1.49007534e-01],\n",
       "       [-8.05579444e-01, -4.97920853e-03,  2.37229137e-01,\n",
       "         6.14368644e-01, -9.31297085e-01],\n",
       "       [ 1.66269427e+00,  1.46762172e+00, -3.61983545e-01,\n",
       "        -7.50303753e-01, -8.44376024e-01],\n",
       "       [ 1.81730043e-01,  3.34851774e-01, -1.04217091e+00,\n",
       "        -1.93501935e-03, -5.83612840e-01],\n",
       "       [-9.28993130e-01, -5.71364179e-01, -2.18898604e-02,\n",
       "         1.18665062e+00, -9.31297085e-01],\n",
       "       [ 1.16903953e+00,  1.18442923e+00,  2.04839262e-01,\n",
       "        -1.93501935e-03, -2.35928595e-01],\n",
       "       [ 3.05143729e-01, -1.13774915e+00,  9.98391193e-01,\n",
       "        -3.54108541e-01,  2.89322961e+00],\n",
       "       [ 9.22212159e-01,  3.34851774e-01, -9.93586101e-01,\n",
       "         1.36273738e+00, -9.31297085e-01],\n",
       "       [-1.29923419e+00, -2.31533197e-01, -3.61983545e-01,\n",
       "         1.18665062e+00, -4.09770718e-01],\n",
       "       [-3.11924701e-01,  4.48128768e-01, -4.91543043e-01,\n",
       "        -1.63073756e+00, -9.31297085e-01],\n",
       "       [ 1.81730043e-01,  9.01236745e-01, -2.11103678e+00,\n",
       "         1.09860724e+00, -7.57454963e-01],\n",
       "       [-5.58752073e-01, -5.14725682e-01, -7.02077229e-01,\n",
       "        -1.01443389e+00,  2.85597773e-01],\n",
       "       [-1.42264787e+00, -1.25102614e+00,  5.44932947e-01,\n",
       "         2.18173432e-01, -9.31297085e-01],\n",
       "       [ 1.04562584e+00, -3.44810191e-01,  1.07669638e-01,\n",
       "        -1.89486770e+00, -7.57454963e-01]])"
      ]
     },
     "execution_count": 41,
     "metadata": {},
     "output_type": "execute_result"
    },
    {
     "name": "stderr",
     "output_type": "stream",
     "text": [
      "C:\\Pyhton\\lib\\site-packages\\pandas\\core\\frame.py:3191: SettingWithCopyWarning: \n",
      "A value is trying to be set on a copy of a slice from a DataFrame.\n",
      "Try using .loc[row_indexer,col_indexer] = value instead\n",
      "\n",
      "See the caveats in the documentation: https://pandas.pydata.org/pandas-docs/stable/user_guide/indexing.html#returning-a-view-versus-a-copy\n",
      "  self[k1] = value[k2]\n"
     ]
    },
    {
     "data": {
      "text/plain": [
       "(91, 13)"
      ]
     },
     "execution_count": 41,
     "metadata": {},
     "output_type": "execute_result"
    }
   ],
   "source": [
    "ss = StandardScaler()\n",
    "ss.fit_transform(X_test[num_atr])\n",
    "le = LabelEncoder()\n",
    "X_test[cat_atr] = X_test[cat_atr].apply(le.fit_transform)\n",
    "a1 = X_test[cat_atr]\n",
    "b1 = ss.transform(X_test[num_atr])\n",
    "\n",
    "Xtr1 = np.hstack([a1,b1]) \n",
    "Xtr1.shape "
   ]
  },
  {
   "cell_type": "code",
   "execution_count": 42,
   "id": "6e2ddcec",
   "metadata": {},
   "outputs": [],
   "source": [
    "dt = DecisionTreeClassifier(criterion=\"gini\", max_depth=None)"
   ]
  },
  {
   "cell_type": "code",
   "execution_count": 43,
   "id": "5af79cb2",
   "metadata": {},
   "outputs": [
    {
     "data": {
      "text/plain": [
       "DecisionTreeClassifier()"
      ]
     },
     "execution_count": 43,
     "metadata": {},
     "output_type": "execute_result"
    }
   ],
   "source": [
    "dt.fit(Xtr,y_train)"
   ]
  },
  {
   "cell_type": "code",
   "execution_count": 44,
   "id": "bf3c3220",
   "metadata": {},
   "outputs": [],
   "source": [
    "y_pred = dt.predict(Xtr1)"
   ]
  },
  {
   "cell_type": "code",
   "execution_count": 45,
   "id": "d609befd",
   "metadata": {},
   "outputs": [
    {
     "data": {
      "text/plain": [
       "0.7582417582417582"
      ]
     },
     "execution_count": 45,
     "metadata": {},
     "output_type": "execute_result"
    }
   ],
   "source": [
    "np.sum((y_test == y_pred))/y_test.size"
   ]
  },
  {
   "cell_type": "code",
   "execution_count": 46,
   "id": "d0d5daa8",
   "metadata": {},
   "outputs": [
    {
     "data": {
      "text/plain": [
       "Index(['age', 'sex', 'cp', 'trestbps', 'chol', 'fbs', 'restecg', 'thalach',\n",
       "       'exang', 'oldpeak', 'slope', 'ca', 'thal', 'target'],\n",
       "      dtype='object')"
      ]
     },
     "execution_count": 46,
     "metadata": {},
     "output_type": "execute_result"
    }
   ],
   "source": [
    "df.columns"
   ]
  },
  {
   "cell_type": "code",
   "execution_count": 47,
   "id": "b3c6fe8d",
   "metadata": {},
   "outputs": [
    {
     "data": {
      "text/plain": [
       "array([1, 0], dtype=int64)"
      ]
     },
     "execution_count": 47,
     "metadata": {},
     "output_type": "execute_result"
    }
   ],
   "source": [
    "df['target'].unique()"
   ]
  },
  {
   "cell_type": "code",
   "execution_count": 48,
   "id": "112dfdff",
   "metadata": {},
   "outputs": [
    {
     "data": {
      "image/png": "[encoded data removed]",
      "text/plain": [
       "<Figure size 1080x1080 with 1 Axes>"
      ]
     },
     "metadata": {},
     "output_type": "display_data"
    }
   ],
   "source": [
    "_=plt.figure(figsize=(15,15))\n",
    "_=plot_tree(\n",
    "            dt,\n",
    "            max_depth = 3,  # Draw upto depth of 3\n",
    "            rounded = True, # Rounded boxes\n",
    "            filled = True,  # Boxes filled with color\n",
    "            impurity = True,# Show impurity level\n",
    "            node_ids = True,# Display node_id\n",
    "            feature_names = ['age', 'sex', 'cp', 'trestbps', 'chol', 'fbs', 'restecg', 'thalach',\n",
    "       'exang', 'oldpeak', 'slope', 'ca', 'thal', 'target'],\n",
    "            class_names = ['1','0']\n",
    "            )\n",
    "\n",
    "_=plt.show()"
   ]
  },
  {
   "cell_type": "code",
   "execution_count": 49,
   "id": "e1aad52d",
   "metadata": {},
   "outputs": [
    {
     "name": "stdout",
     "output_type": "stream",
     "text": [
      "0.7582417582417582\n"
     ]
    }
   ],
   "source": [
    "score = accuracy_score(y_test, y_pred)\n",
    "print(score)"
   ]
  },
  {
   "cell_type": "markdown",
   "id": "ca72c191",
   "metadata": {},
   "source": [
    "Accuracy as per Decision Tree Algorithm is 76.9%\n"
   ]
  },
  {
   "cell_type": "markdown",
   "id": "7e617c2f",
   "metadata": {},
   "source": [
    "# Random Forest Classification"
   ]
  },
  {
   "cell_type": "code",
   "execution_count": 50,
   "id": "54a6056e",
   "metadata": {},
   "outputs": [
    {
     "data": {
      "text/plain": [
       "array([[<AxesSubplot:title={'center':'age'}>,\n",
       "        <AxesSubplot:title={'center':'trestbps'}>],\n",
       "       [<AxesSubplot:title={'center':'chol'}>,\n",
       "        <AxesSubplot:title={'center':'thalach'}>],\n",
       "       [<AxesSubplot:title={'center':'oldpeak'}>, <AxesSubplot:>]],\n",
       "      dtype=object)"
      ]
     },
     "execution_count": 50,
     "metadata": {},
     "output_type": "execute_result"
    },
    {
     "data": {
      "image/png": "[encoded data removed]",
      "text/plain": [
       "<Figure size 1440x1080 with 6 Axes>"
      ]
     },
     "metadata": {},
     "output_type": "display_data"
    }
   ],
   "source": [
    "df[num_atr].hist(bins=40, figsize=(20,15)) \n",
    "plt.show()\n",
    "# Histogram of all the numerical attributes"
   ]
  },
  {
   "cell_type": "code",
   "execution_count": 51,
   "id": "f922726f",
   "metadata": {},
   "outputs": [],
   "source": [
    "X= df.drop(['target'], axis=1)\n",
    "y= df['target']\n",
    "\n",
    "\n",
    "X_train,X_test,y_train,y_test=train_test_split(X,y,test_size=0.3,random_state=1)"
   ]
  },
  {
   "cell_type": "code",
   "execution_count": 52,
   "id": "f10d66a6",
   "metadata": {},
   "outputs": [],
   "source": [
    "from sklearn.preprocessing import StandardScaler\n",
    "from sklearn.metrics import mean_squared_error,r2_score \n",
    "from sklearn.preprocessing import OneHotEncoder as onehot"
   ]
  },
  {
   "cell_type": "code",
   "execution_count": 53,
   "id": "82e38be5",
   "metadata": {},
   "outputs": [
    {
     "name": "stderr",
     "output_type": "stream",
     "text": [
      "C:\\Pyhton\\lib\\site-packages\\pandas\\core\\frame.py:3191: SettingWithCopyWarning: \n",
      "A value is trying to be set on a copy of a slice from a DataFrame.\n",
      "Try using .loc[row_indexer,col_indexer] = value instead\n",
      "\n",
      "See the caveats in the documentation: https://pandas.pydata.org/pandas-docs/stable/user_guide/indexing.html#returning-a-view-versus-a-copy\n",
      "  self[k1] = value[k2]\n"
     ]
    }
   ],
   "source": [
    "le = LabelEncoder()\n",
    "X_train[cat_atr] = X_train[cat_atr].apply(le.fit_transform)"
   ]
  },
  {
   "cell_type": "code",
   "execution_count": 54,
   "id": "375d96d5",
   "metadata": {},
   "outputs": [
    {
     "data": {
      "text/html": [
       "<div>\n",
       "<style scoped>\n",
       "    .dataframe tbody tr th:only-of-type {\n",
       "        vertical-align: middle;\n",
       "    }\n",
       "\n",
       "    .dataframe tbody tr th {\n",
       "        vertical-align: top;\n",
       "    }\n",
       "\n",
       "    .dataframe thead th {\n",
       "        text-align: right;\n",
       "    }\n",
       "</style>\n",
       "<table border=\"1\" class=\"dataframe\">\n",
       "  <thead>\n",
       "    <tr style=\"text-align: right;\">\n",
       "      <th></th>\n",
       "      <th>sex</th>\n",
       "      <th>cp</th>\n",
       "      <th>fbs</th>\n",
       "      <th>restecg</th>\n",
       "      <th>exang</th>\n",
       "      <th>slope</th>\n",
       "      <th>ca</th>\n",
       "      <th>thal</th>\n",
       "    </tr>\n",
       "  </thead>\n",
       "  <tbody>\n",
       "    <tr>\n",
       "      <th>146</th>\n",
       "      <td>0</td>\n",
       "      <td>2</td>\n",
       "      <td>0</td>\n",
       "      <td>1</td>\n",
       "      <td>0</td>\n",
       "      <td>1</td>\n",
       "      <td>1</td>\n",
       "      <td>2</td>\n",
       "    </tr>\n",
       "    <tr>\n",
       "      <th>202</th>\n",
       "      <td>1</td>\n",
       "      <td>0</td>\n",
       "      <td>0</td>\n",
       "      <td>0</td>\n",
       "      <td>1</td>\n",
       "      <td>2</td>\n",
       "      <td>0</td>\n",
       "      <td>3</td>\n",
       "    </tr>\n",
       "    <tr>\n",
       "      <th>292</th>\n",
       "      <td>0</td>\n",
       "      <td>0</td>\n",
       "      <td>1</td>\n",
       "      <td>0</td>\n",
       "      <td>1</td>\n",
       "      <td>1</td>\n",
       "      <td>2</td>\n",
       "      <td>1</td>\n",
       "    </tr>\n",
       "    <tr>\n",
       "      <th>276</th>\n",
       "      <td>1</td>\n",
       "      <td>0</td>\n",
       "      <td>0</td>\n",
       "      <td>1</td>\n",
       "      <td>0</td>\n",
       "      <td>1</td>\n",
       "      <td>1</td>\n",
       "      <td>3</td>\n",
       "    </tr>\n",
       "    <tr>\n",
       "      <th>19</th>\n",
       "      <td>0</td>\n",
       "      <td>3</td>\n",
       "      <td>0</td>\n",
       "      <td>1</td>\n",
       "      <td>0</td>\n",
       "      <td>2</td>\n",
       "      <td>2</td>\n",
       "      <td>2</td>\n",
       "    </tr>\n",
       "  </tbody>\n",
       "</table>\n",
       "</div>"
      ],
      "text/plain": [
       "     sex  cp  fbs  restecg  exang  slope  ca  thal\n",
       "146    0   2    0        1      0      1   1     2\n",
       "202    1   0    0        0      1      2   0     3\n",
       "292    0   0    1        0      1      1   2     1\n",
       "276    1   0    0        1      0      1   1     3\n",
       "19     0   3    0        1      0      2   2     2"
      ]
     },
     "execution_count": 54,
     "metadata": {},
     "output_type": "execute_result"
    }
   ],
   "source": [
    "X_train[cat_atr].head()"
   ]
  },
  {
   "cell_type": "code",
   "execution_count": 55,
   "id": "5043e5bb",
   "metadata": {},
   "outputs": [
    {
     "data": {
      "text/plain": [
       "array([[-1.06167727, -0.7213128 , -0.00545977, -0.05360584, -0.62827225],\n",
       "       [ 0.43317242,  1.1207084 ,  0.60315022, -1.71311019, -0.19842321],\n",
       "       [ 0.43317242,  2.27197164, -0.37497298, -0.18461934,  1.52097296],\n",
       "       ...,\n",
       "       [-2.66330193, -0.03055485, -0.83143048,  2.26096602, -0.88618167],\n",
       "       [ 0.43317242, -0.31837067,  1.25523236,  0.90715984, -0.88618167],\n",
       "       [ 0.00607251,  1.1207084 , -0.22282048,  0.64513283,  0.48933526]])"
      ]
     },
     "execution_count": 55,
     "metadata": {},
     "output_type": "execute_result"
    }
   ],
   "source": [
    "ss = StandardScaler()\n",
    "ss.fit_transform(X_train[num_atr])"
   ]
  },
  {
   "cell_type": "code",
   "execution_count": 56,
   "id": "cb41c5d0",
   "metadata": {},
   "outputs": [
    {
     "data": {
      "text/plain": [
       "(211, 13)"
      ]
     },
     "execution_count": 56,
     "metadata": {},
     "output_type": "execute_result"
    }
   ],
   "source": [
    "a = X_train[cat_atr]\n",
    "b = ss.transform(X_train[num_atr])\n",
    "\n",
    "Xtr = np.hstack([a,b])\n",
    "Xtr.shape "
   ]
  },
  {
   "cell_type": "code",
   "execution_count": 57,
   "id": "5a980e46",
   "metadata": {},
   "outputs": [
    {
     "data": {
      "text/plain": [
       "array([[ 5.51971101e-01, -2.31533197e-01, -8.15441790e-01,\n",
       "        -7.06282063e-01,  1.15480839e+00],\n",
       "       [-1.88511015e-01, -1.36430314e+00, -6.85882292e-01,\n",
       "         4.38281883e-01,  4.59439895e-01],\n",
       "       [-2.16312999e+00,  2.21574780e-01, -1.31748485e+00,\n",
       "         1.09860724e+00, -9.31297085e-01],\n",
       "       [ 1.81730043e-01,  1.01451374e+00,  2.85813949e-01,\n",
       "        -2.64323643e+00,  1.11755650e-01],\n",
       "       [ 1.04562584e+00,  2.60039166e+00,  1.11175575e+00,\n",
       "         2.62195122e-01, -9.31297085e-01],\n",
       "       [-1.66947525e+00, -7.97918167e-01,  6.25907634e-01,\n",
       "         6.14368644e-01, -9.31297085e-01],\n",
       "       [ 5.51971101e-01,  6.18044259e-01,  4.15373448e-01,\n",
       "        -2.66065161e-01,  1.50249263e+00],\n",
       "       [-2.03971630e+00,  2.21574780e-01, -5.88712668e-01,\n",
       "         1.74151742e-01, -9.31297085e-01],\n",
       "       [ 3.05143729e-01,  1.08297786e-01,  1.01458613e+00,\n",
       "         1.74151742e-01, -9.31297085e-01],\n",
       "       [-3.11924701e-01, -2.31533197e-01, -9.61196227e-01,\n",
       "         1.74151742e-01,  1.11755650e-01],\n",
       "       [ 4.28557415e-01,  2.03400669e+00,  5.12543072e-01,\n",
       "         4.82303573e-01, -7.57454963e-01],\n",
       "       [ 1.29245322e+00, -7.97918167e-01,  7.39272195e-01,\n",
       "         1.30130051e-01, -5.83612840e-01],\n",
       "       [ 1.04562584e+00, -5.14725682e-01,  8.52636756e-01,\n",
       "        -7.50303753e-01,  6.33282018e-01],\n",
       "       [ 1.81730043e-01, -3.44810191e-01,  7.55467132e-01,\n",
       "         4.82303573e-01, -9.31297085e-01],\n",
       "       [ 1.41586690e+00,  1.01451374e+00,  3.34398761e-01,\n",
       "         1.05458555e+00, -9.31297085e-01],\n",
       "       [ 1.04562584e+00, -2.31533197e-01,  7.55467132e-01,\n",
       "        -1.14649897e+00,  8.07124141e-01],\n",
       "       [-9.28993130e-01, -2.31533197e-01,  3.02008887e-01,\n",
       "        -3.98130231e-01, -7.57454963e-01],\n",
       "       [-9.28993130e-01, -1.36430314e+00, -4.42958231e-01,\n",
       "         8.78498785e-01, -6.20864724e-02],\n",
       "       [ 6.75384787e-01,  6.18044259e-01,  8.20246882e-01,\n",
       "        -8.99783998e-02, -6.20864724e-02],\n",
       "       [-5.58752073e-01,  3.34851774e-01,  7.52797637e-02,\n",
       "         1.67088921e+00, -9.31297085e-01],\n",
       "       [-5.58752073e-01, -1.36430314e+00, -1.31748485e+00,\n",
       "        -1.10247728e+00, -4.09770718e-01],\n",
       "       [ 1.41586690e+00, -1.08111065e+00,  4.98234578e+00,\n",
       "         5.26325263e-01,  4.59439895e-01],\n",
       "       [-1.88511015e-01, -1.47758013e+00,  1.72449388e-01,\n",
       "         8.34477095e-01, -9.31297085e-01],\n",
       "       [-1.79288893e+00, -1.25102614e+00, -1.02864547e-01,\n",
       "         1.36273738e+00, -9.31297085e-01],\n",
       "       [-8.05579444e-01, -2.31533197e-01,  1.56254450e-01,\n",
       "         1.01056386e+00, -4.09770718e-01],\n",
       "       [-6.50973288e-02, -1.18256203e-01,  1.56521400e+00,\n",
       "        -7.06282063e-01,  1.11755650e-01],\n",
       "       [-1.54606156e+00,  9.01236745e-01, -1.51449359e-01,\n",
       "         1.01056386e+00,  3.72518834e-01],\n",
       "       [ 9.22212159e-01, -2.31533197e-01, -3.80847977e-02,\n",
       "        -4.59567096e-02,  2.85597773e-01],\n",
       "       [-1.88511015e-01, -7.97918167e-01, -1.10695066e+00,\n",
       "        -1.54269418e+00,  2.85597773e-01],\n",
       "       [-6.82165759e-01, -7.97918167e-01, -2.00034171e-01,\n",
       "         6.14368644e-01,  2.48345889e-02],\n",
       "       [ 9.22212159e-01, -5.71364179e-01, -9.61196227e-01,\n",
       "        -5.30195302e-01, -9.31297085e-01],\n",
       "       [-9.28993130e-01, -2.31533197e-01, -5.69492302e-03,\n",
       "         8.61083611e-02, -9.31297085e-01],\n",
       "       [-2.65678473e+00, -9.11195162e-01, -1.20412029e+00,\n",
       "         1.14262893e+00, -9.31297085e-01],\n",
       "       [ 1.81730043e-01, -2.31533197e-01, -3.29593670e-01,\n",
       "         1.14262893e+00, -9.31297085e-01],\n",
       "       [ 5.83163571e-02, -2.31533197e-01, -5.69492302e-03,\n",
       "        -2.66065161e-01, -4.09770718e-01],\n",
       "       [-8.05579444e-01, -7.97918167e-01, -1.10695066e+00,\n",
       "        -3.98130231e-01,  8.07124141e-01],\n",
       "       [ 1.78610796e+00, -2.31533197e-01,  1.06317094e+00,\n",
       "        -1.71878094e+00,  1.15480839e+00],\n",
       "       [ 1.04562584e+00,  3.34851774e-01,  9.17416506e-01,\n",
       "        -6.62260373e-01, -7.57454963e-01],\n",
       "       [ 5.83163571e-02, -2.31533197e-01,  4.31568385e-01,\n",
       "        -1.98291108e+00,  4.59439895e-01],\n",
       "       [-1.88511015e-01, -5.71364179e-01,  1.56254450e-01,\n",
       "        -1.71878094e+00,  9.80966263e-01],\n",
       "       [ 5.83163571e-02,  3.73316160e+00,  5.12543072e-01,\n",
       "        -6.62260373e-01,  2.54554537e+00],\n",
       "       [-2.53337105e+00, -6.84641173e-01, -1.04217091e+00,\n",
       "         1.14262893e+00, -9.31297085e-01],\n",
       "       [ 1.81730043e-01,  1.12779073e+00, -3.94373419e-01,\n",
       "         7.02412024e-01, -9.31297085e-01],\n",
       "       [ 4.28557415e-01,  2.03400669e+00,  1.12795069e+00,\n",
       "        -3.54108541e-01,  2.02401900e+00],\n",
       "       [ 1.81730043e-01, -7.97918167e-01,  1.58140894e+00,\n",
       "         6.58390334e-01, -4.09770718e-01],\n",
       "       [ 5.83163571e-02, -2.31533197e-01, -5.72517730e-01,\n",
       "         6.58390334e-01, -9.31297085e-01],\n",
       "       [ 7.98798473e-01, -7.97918167e-01,  3.99178511e-01,\n",
       "        -1.98291108e+00,  2.85597773e-01],\n",
       "       [-6.50973288e-02, -3.44810191e-01, -8.31636728e-01,\n",
       "        -7.94325444e-01,  8.07124141e-01],\n",
       "       [-1.88511015e-01, -1.18256203e-01,  5.12543072e-01,\n",
       "         4.82303573e-01, -9.31297085e-01],\n",
       "       [ 3.05143729e-01, -7.97918167e-01,  1.35467981e+00,\n",
       "         1.05458555e+00, -9.31297085e-01],\n",
       "       [-1.88511015e-01, -7.97918167e-01,  2.66949517e-02,\n",
       "        -4.59567096e-02, -5.83612840e-01],\n",
       "       [ 9.22212159e-01,  6.18044259e-01, -3.78178482e-01,\n",
       "         8.61083611e-02,  1.06788732e+00],\n",
       "       [-4.35338387e-01, -9.11195162e-01, -1.13934054e+00,\n",
       "         1.84697597e+00, -9.31297085e-01],\n",
       "       [ 1.66269427e+00,  3.34851774e-01, -3.80847977e-02,\n",
       "        -8.99783998e-02,  8.07124141e-01],\n",
       "       [-1.29923419e+00,  2.21574780e-01, -3.29593670e-01,\n",
       "         1.74151742e-01, -7.57454963e-01],\n",
       "       [ 3.05143729e-01, -5.14725682e-01, -5.88712668e-01,\n",
       "        -1.78021780e-01, -5.83612840e-01],\n",
       "       [ 5.51971101e-01,  3.34851774e-01, -1.15553547e+00,\n",
       "         3.06216812e-01,  1.67633475e+00],\n",
       "       [-4.35338387e-01, -3.44810191e-01, -8.31636728e-01,\n",
       "         1.58284583e+00, -9.31297085e-01],\n",
       "       [-1.88511015e-01,  3.28005362e+00,  4.31568385e-01,\n",
       "         2.06708442e+00, -9.31297085e-01],\n",
       "       [ 9.22212159e-01,  9.01236745e-01,  2.43974062e+00,\n",
       "         2.62195122e-01,  2.54554537e+00],\n",
       "       [-5.58752073e-01,  3.34851774e-01,  6.90687383e-01,\n",
       "         1.09860724e+00,  4.59439895e-01],\n",
       "       [-6.50973288e-02, -1.18256203e-01,  1.38706969e+00,\n",
       "         7.90455405e-01,  1.11755650e-01],\n",
       "       [ 1.53928059e+00, -7.97918167e-01, -7.34467104e-01,\n",
       "        -1.45465080e+00,  3.72518834e-01],\n",
       "       [-1.17582050e+00,  2.21574780e-01, -2.16229109e-01,\n",
       "         1.74151742e-01, -9.31297085e-01],\n",
       "       [ 5.83163571e-02, -1.18256203e-01, -1.17173041e+00,\n",
       "        -1.89486770e+00,  8.94045202e-01],\n",
       "       [ 5.83163571e-02, -7.97918167e-01, -1.02597598e+00,\n",
       "         6.14368644e-01,  7.20203079e-01],\n",
       "       [ 9.22212159e-01,  3.34851774e-01, -1.12314560e+00,\n",
       "        -1.78021780e-01,  2.54554537e+00],\n",
       "       [ 1.16903953e+00,  1.46762172e+00,  1.67857856e+00,\n",
       "         1.30130051e-01, -2.35928595e-01],\n",
       "       [ 1.53928059e+00,  5.61405762e-01, -1.02597598e+00,\n",
       "        -3.10086851e-01,  2.02401900e+00],\n",
       "       [ 3.05143729e-01, -1.93068811e+00, -1.35254422e-01,\n",
       "        -1.14649897e+00, -6.20864724e-02],\n",
       "       [-6.82165759e-01,  5.61405762e-01, -9.12611414e-01,\n",
       "        -9.70412204e-01, -1.49007534e-01],\n",
       "       [-1.17582050e+00,  3.34851774e-01,  8.85026631e-01,\n",
       "        -1.23454235e+00,  6.33282018e-01],\n",
       "       [ 1.29245322e+00,  9.01236745e-01, -4.91543043e-01,\n",
       "        -1.49867249e+00,  1.32865051e+00],\n",
       "       [-1.54606156e+00, -7.97918167e-01, -1.28509497e+00,\n",
       "        -1.23454235e+00,  1.24172945e+00],\n",
       "       [ 1.29245322e+00,  1.46762172e+00, -4.59153169e-01,\n",
       "        -4.42151922e-01,  1.06788732e+00],\n",
       "       [ 6.75384787e-01, -2.31533197e-01,  1.19273044e+00,\n",
       "         9.22520476e-01, -9.31297085e-01],\n",
       "       [-1.29923419e+00, -1.70413412e+00, -7.83051916e-01,\n",
       "        -1.93501935e-03,  1.67633475e+00],\n",
       "       [ 5.51971101e-01,  9.01236745e-01, -2.64813921e-01,\n",
       "         1.01056386e+00, -1.49007534e-01],\n",
       "       [-8.05579444e-01, -4.97920853e-03,  2.37229137e-01,\n",
       "         6.14368644e-01, -9.31297085e-01],\n",
       "       [ 1.66269427e+00,  1.46762172e+00, -3.61983545e-01,\n",
       "        -7.50303753e-01, -8.44376024e-01],\n",
       "       [ 1.81730043e-01,  3.34851774e-01, -1.04217091e+00,\n",
       "        -1.93501935e-03, -5.83612840e-01],\n",
       "       [-9.28993130e-01, -5.71364179e-01, -2.18898604e-02,\n",
       "         1.18665062e+00, -9.31297085e-01],\n",
       "       [ 1.16903953e+00,  1.18442923e+00,  2.04839262e-01,\n",
       "        -1.93501935e-03, -2.35928595e-01],\n",
       "       [ 3.05143729e-01, -1.13774915e+00,  9.98391193e-01,\n",
       "        -3.54108541e-01,  2.89322961e+00],\n",
       "       [ 9.22212159e-01,  3.34851774e-01, -9.93586101e-01,\n",
       "         1.36273738e+00, -9.31297085e-01],\n",
       "       [-1.29923419e+00, -2.31533197e-01, -3.61983545e-01,\n",
       "         1.18665062e+00, -4.09770718e-01],\n",
       "       [-3.11924701e-01,  4.48128768e-01, -4.91543043e-01,\n",
       "        -1.63073756e+00, -9.31297085e-01],\n",
       "       [ 1.81730043e-01,  9.01236745e-01, -2.11103678e+00,\n",
       "         1.09860724e+00, -7.57454963e-01],\n",
       "       [-5.58752073e-01, -5.14725682e-01, -7.02077229e-01,\n",
       "        -1.01443389e+00,  2.85597773e-01],\n",
       "       [-1.42264787e+00, -1.25102614e+00,  5.44932947e-01,\n",
       "         2.18173432e-01, -9.31297085e-01],\n",
       "       [ 1.04562584e+00, -3.44810191e-01,  1.07669638e-01,\n",
       "        -1.89486770e+00, -7.57454963e-01]])"
      ]
     },
     "execution_count": 57,
     "metadata": {},
     "output_type": "execute_result"
    },
    {
     "name": "stderr",
     "output_type": "stream",
     "text": [
      "C:\\Pyhton\\lib\\site-packages\\pandas\\core\\frame.py:3191: SettingWithCopyWarning: \n",
      "A value is trying to be set on a copy of a slice from a DataFrame.\n",
      "Try using .loc[row_indexer,col_indexer] = value instead\n",
      "\n",
      "See the caveats in the documentation: https://pandas.pydata.org/pandas-docs/stable/user_guide/indexing.html#returning-a-view-versus-a-copy\n",
      "  self[k1] = value[k2]\n"
     ]
    },
    {
     "data": {
      "text/plain": [
       "(91, 13)"
      ]
     },
     "execution_count": 57,
     "metadata": {},
     "output_type": "execute_result"
    }
   ],
   "source": [
    "ss = StandardScaler()\n",
    "ss.fit_transform(X_test[num_atr])\n",
    "le = LabelEncoder()\n",
    "X_test[cat_atr] = X_test[cat_atr].apply(le.fit_transform)\n",
    "a1 = X_test[cat_atr]\n",
    "b1 = ss.transform(X_test[num_atr])\n",
    "\n",
    "Xtr1 = np.hstack([a1,b1]) \n",
    "Xtr1.shape "
   ]
  },
  {
   "cell_type": "code",
   "execution_count": 58,
   "id": "55e9e710",
   "metadata": {},
   "outputs": [
    {
     "data": {
      "text/plain": [
       "RandomForestClassifier()"
      ]
     },
     "execution_count": 58,
     "metadata": {},
     "output_type": "execute_result"
    }
   ],
   "source": [
    "from sklearn.ensemble import RandomForestClassifier\n",
    "\n",
    "clf=RandomForestClassifier(n_estimators=100)\n",
    "clf.fit(Xtr,y_train)\n",
    "y_pred=clf.predict(Xtr1)"
   ]
  },
  {
   "cell_type": "code",
   "execution_count": 59,
   "id": "ced8c2f0",
   "metadata": {},
   "outputs": [
    {
     "name": "stdout",
     "output_type": "stream",
     "text": [
      "Accuracy 0.7692307692307693\n"
     ]
    }
   ],
   "source": [
    "from sklearn import metrics\n",
    "print( \"Accuracy\" , metrics.accuracy_score(y_test, y_pred))"
   ]
  },
  {
   "cell_type": "code",
   "execution_count": 60,
   "id": "e22dda38",
   "metadata": {},
   "outputs": [
    {
     "data": {
      "text/plain": [
       "array([[29,  9],\n",
       "       [12, 41]], dtype=int64)"
      ]
     },
     "execution_count": 60,
     "metadata": {},
     "output_type": "execute_result"
    }
   ],
   "source": [
    "from sklearn.metrics import classification_report\n",
    "from sklearn.metrics import confusion_matrix\n",
    "metrics.confusion_matrix(y_test, y_pred)"
   ]
  },
  {
   "cell_type": "code",
   "execution_count": 61,
   "id": "801def87",
   "metadata": {},
   "outputs": [
    {
     "name": "stdout",
     "output_type": "stream",
     "text": [
      "              precision    recall  f1-score   support\n",
      "\n",
      "           0       0.71      0.76      0.73        38\n",
      "           1       0.82      0.77      0.80        53\n",
      "\n",
      "    accuracy                           0.77        91\n",
      "   macro avg       0.76      0.77      0.77        91\n",
      "weighted avg       0.77      0.77      0.77        91\n",
      "\n"
     ]
    }
   ],
   "source": [
    "print(classification_report(y_test, y_pred))"
   ]
  },
  {
   "cell_type": "code",
   "execution_count": 62,
   "id": "d6bf9231",
   "metadata": {},
   "outputs": [
    {
     "data": {
      "text/plain": [
       "RandomForestClassifier()"
      ]
     },
     "execution_count": 62,
     "metadata": {},
     "output_type": "execute_result"
    }
   ],
   "source": [
    "from sklearn.ensemble import RandomForestClassifier\n",
    "clf=RandomForestClassifier(n_estimators=100)\n",
    "clf.fit(X_train,y_train)"
   ]
  },
  {
   "cell_type": "code",
   "execution_count": 63,
   "id": "339ace08",
   "metadata": {},
   "outputs": [
    {
     "data": {
      "text/plain": [
       "Index(['age', 'sex', 'cp', 'trestbps', 'chol', 'fbs', 'restecg', 'thalach',\n",
       "       'exang', 'oldpeak', 'slope', 'ca', 'thal', 'target'],\n",
       "      dtype='object')"
      ]
     },
     "execution_count": 63,
     "metadata": {},
     "output_type": "execute_result"
    }
   ],
   "source": [
    "df.columns"
   ]
  },
  {
   "cell_type": "code",
   "execution_count": 64,
   "id": "b8e917dc",
   "metadata": {},
   "outputs": [
    {
     "name": "stderr",
     "output_type": "stream",
     "text": [
      "<ipython-input-64-a39ccb19f25a>:1: UserWarning: Pandas doesn't allow columns to be created via a new attribute name - see https://pandas.pydata.org/pandas-docs/stable/indexing.html#attribute-access\n",
      "  df.feature_names = df[['age', 'sex', 'cp', 'trestbps', 'chol', 'fbs', 'restecg', 'thalach',\n",
      "<ipython-input-64-a39ccb19f25a>:3: UserWarning: Pandas doesn't allow columns to be created via a new attribute name - see https://pandas.pydata.org/pandas-docs/stable/indexing.html#attribute-access\n",
      "  df.target_names = df['target']\n"
     ]
    }
   ],
   "source": [
    "df.feature_names = df[['age', 'sex', 'cp', 'trestbps', 'chol', 'fbs', 'restecg', 'thalach',\n",
    "       'exang', 'oldpeak', 'slope', 'ca', 'thal', 'target']]\n",
    "df.target_names = df['target']"
   ]
  },
  {
   "cell_type": "code",
   "execution_count": 65,
   "id": "55dedf80",
   "metadata": {},
   "outputs": [
    {
     "data": {
      "text/plain": [
       "2     0.181219\n",
       "7     0.133319\n",
       "11    0.108963\n",
       "9     0.098472\n",
       "12    0.092626\n",
       "0     0.080091\n",
       "4     0.073546\n",
       "3     0.065779\n",
       "8     0.064383\n",
       "10    0.046180\n",
       "1     0.029980\n",
       "6     0.017021\n",
       "5     0.008422\n",
       "dtype: float64"
      ]
     },
     "execution_count": 65,
     "metadata": {},
     "output_type": "execute_result"
    }
   ],
   "source": [
    "import pandas as pd\n",
    "feature_imp = pd.Series(clf.feature_importances_).sort_values(ascending=False)\n",
    "feature_imp"
   ]
  },
  {
   "cell_type": "code",
   "execution_count": 66,
   "id": "683870fd",
   "metadata": {},
   "outputs": [
    {
     "data": {
      "text/plain": [
       "[('age', 0.1812185357649668),\n",
       " ('sex', 0.1333185025460675),\n",
       " ('cp', 0.10896294784292922),\n",
       " ('trestbps', 0.09847229745754284),\n",
       " ('chol', 0.09262573235367305),\n",
       " ('fbs', 0.08009122089210108),\n",
       " ('restecg', 0.07354581654576026),\n",
       " ('thalach', 0.06577933858332147),\n",
       " ('exang', 0.06438322953551943),\n",
       " ('oldpeak', 0.04617994561879433),\n",
       " ('slope', 0.02997965619237248),\n",
       " ('ca', 0.01702108909711523),\n",
       " ('thal', 0.00842168756983628)]"
      ]
     },
     "execution_count": 66,
     "metadata": {},
     "output_type": "execute_result"
    }
   ],
   "source": [
    "list(zip(df.columns, feature_imp))"
   ]
  },
  {
   "cell_type": "code",
   "execution_count": 67,
   "id": "80ee23e2",
   "metadata": {},
   "outputs": [
    {
     "data": {
      "text/plain": [
       "<AxesSubplot:>"
      ]
     },
     "execution_count": 67,
     "metadata": {},
     "output_type": "execute_result"
    },
    {
     "data": {
      "text/plain": [
       "Text(0.5, 0, 'Feature Importance Score')"
      ]
     },
     "execution_count": 67,
     "metadata": {},
     "output_type": "execute_result"
    },
    {
     "data": {
      "text/plain": [
       "Text(0, 0.5, 'Features')"
      ]
     },
     "execution_count": 67,
     "metadata": {},
     "output_type": "execute_result"
    },
    {
     "data": {
      "text/plain": [
       "Text(0.5, 1.0, 'Visualizing Important Features')"
      ]
     },
     "execution_count": 67,
     "metadata": {},
     "output_type": "execute_result"
    },
    {
     "name": "stderr",
     "output_type": "stream",
     "text": [
      "No handles with labels found to put in legend.\n"
     ]
    },
    {
     "data": {
      "text/plain": [
       "<matplotlib.legend.Legend at 0x17f246f0f40>"
      ]
     },
     "execution_count": 67,
     "metadata": {},
     "output_type": "execute_result"
    },
    {
     "data": {
      "image/png": "[encoded data removed]",
      "text/plain": [
       "<Figure size 432x288 with 1 Axes>"
      ]
     },
     "metadata": {
      "needs_background": "light"
     },
     "output_type": "display_data"
    }
   ],
   "source": [
    "#visualizing feature importance results\n",
    "import matplotlib.pyplot as plt\n",
    "import seaborn as sns\n",
    "%matplotlib inline\n",
    "# Creating a bar plot\n",
    "sns.barplot(x=feature_imp, y=feature_imp.index)\n",
    "# Add labels to your graph\n",
    "plt.xlabel('Feature Importance Score')\n",
    "plt.ylabel('Features')\n",
    "plt.title(\"Visualizing Important Features\")\n",
    "plt.legend()\n",
    "plt.show()"
   ]
  },
  {
   "cell_type": "code",
   "execution_count": 68,
   "id": "d37a357a",
   "metadata": {},
   "outputs": [
    {
     "data": {
      "text/plain": [
       "RandomForestClassifier()"
      ]
     },
     "execution_count": 68,
     "metadata": {},
     "output_type": "execute_result"
    },
    {
     "name": "stdout",
     "output_type": "stream",
     "text": [
      "Accuracy: 0.7582417582417582\n"
     ]
    }
   ],
   "source": [
    "from sklearn.ensemble import RandomForestClassifier\n",
    "clf=RandomForestClassifier(n_estimators=100)\n",
    "clf.fit(Xtr,y_train)\n",
    "y_pred=clf.predict(Xtr1)\n",
    "from sklearn import metrics\n",
    "print(\"Accuracy:\",metrics.accuracy_score(y_test, y_pred))"
   ]
  },
  {
   "cell_type": "code",
   "execution_count": 69,
   "id": "b98cd042",
   "metadata": {},
   "outputs": [
    {
     "name": "stdout",
     "output_type": "stream",
     "text": [
      "              precision    recall  f1-score   support\n",
      "\n",
      "           0       0.69      0.76      0.72        38\n",
      "           1       0.82      0.75      0.78        53\n",
      "\n",
      "    accuracy                           0.76        91\n",
      "   macro avg       0.75      0.76      0.75        91\n",
      "weighted avg       0.76      0.76      0.76        91\n",
      "\n"
     ]
    }
   ],
   "source": [
    "print(classification_report(y_test, y_pred))"
   ]
  },
  {
   "cell_type": "markdown",
   "id": "2027087e",
   "metadata": {},
   "source": [
    "# Final Conclusion"
   ]
  },
  {
   "cell_type": "markdown",
   "id": "9d7aac0a",
   "metadata": {},
   "source": [
    "Accuracy as oer all the three algorithms:"
   ]
  },
  {
   "cell_type": "markdown",
   "id": "e7eb6400",
   "metadata": {},
   "source": [
    "KNN Classification Algorithm - Accuracy improved from 78.9% to 81.5%"
   ]
  },
  {
   "cell_type": "markdown",
   "id": "af1ce3cd",
   "metadata": {},
   "source": [
    "Decision Tree Algorithm - 76.92%"
   ]
  },
  {
   "cell_type": "markdown",
   "id": "be8e7ee4",
   "metadata": {},
   "source": [
    "Random Forest Classification - 75.82%"
   ]
  },
  {
   "cell_type": "markdown",
   "id": "24f8b77d",
   "metadata": {},
   "source": [
    "Therefore KNN Classification Algorithm is best for this dataset."
   ]
  },
  {
   "cell_type": "markdown",
   "id": "a452acaa",
   "metadata": {},
   "source": [
    "# PCA"
   ]
  },
  {
   "cell_type": "code",
   "execution_count": 70,
   "id": "7afedf3c",
   "metadata": {},
   "outputs": [
    {
     "data": {
      "text/plain": [
       "PCA(n_components=2)"
      ]
     },
     "execution_count": 70,
     "metadata": {},
     "output_type": "execute_result"
    },
    {
     "data": {
      "text/plain": [
       "((302, 13), (302, 2))"
      ]
     },
     "execution_count": 70,
     "metadata": {},
     "output_type": "execute_result"
    }
   ],
   "source": [
    "from sklearn.decomposition import PCA\n",
    "model=PCA(n_components=2)\n",
    "\n",
    "#It finds the 2 principle componenets.\n",
    "model.fit(X)\n",
    "#reducing 30 features to 2\n",
    "#Transforms the data into 2 principle components\n",
    "X_PCA=model.transform(X)\n",
    "X.shape,X_PCA.shape"
   ]
  },
  {
   "cell_type": "code",
   "execution_count": 71,
   "id": "910fd6ed",
   "metadata": {},
   "outputs": [],
   "source": [
    "X_Train, X_Test, y_Train, y_Test = train_test_split(X_PCA, y, random_state=1)"
   ]
  },
  {
   "cell_type": "code",
   "execution_count": 72,
   "id": "46898669",
   "metadata": {},
   "outputs": [
    {
     "data": {
      "text/plain": [
       "KNeighborsClassifier(n_neighbors=1)"
      ]
     },
     "execution_count": 72,
     "metadata": {},
     "output_type": "execute_result"
    },
    {
     "data": {
      "text/plain": [
       "KNeighborsClassifier(n_neighbors=2)"
      ]
     },
     "execution_count": 72,
     "metadata": {},
     "output_type": "execute_result"
    },
    {
     "data": {
      "text/plain": [
       "KNeighborsClassifier(n_neighbors=3)"
      ]
     },
     "execution_count": 72,
     "metadata": {},
     "output_type": "execute_result"
    },
    {
     "data": {
      "text/plain": [
       "KNeighborsClassifier(n_neighbors=4)"
      ]
     },
     "execution_count": 72,
     "metadata": {},
     "output_type": "execute_result"
    },
    {
     "data": {
      "text/plain": [
       "KNeighborsClassifier()"
      ]
     },
     "execution_count": 72,
     "metadata": {},
     "output_type": "execute_result"
    },
    {
     "data": {
      "text/plain": [
       "KNeighborsClassifier(n_neighbors=6)"
      ]
     },
     "execution_count": 72,
     "metadata": {},
     "output_type": "execute_result"
    },
    {
     "data": {
      "text/plain": [
       "KNeighborsClassifier(n_neighbors=7)"
      ]
     },
     "execution_count": 72,
     "metadata": {},
     "output_type": "execute_result"
    },
    {
     "data": {
      "text/plain": [
       "KNeighborsClassifier(n_neighbors=8)"
      ]
     },
     "execution_count": 72,
     "metadata": {},
     "output_type": "execute_result"
    },
    {
     "data": {
      "text/plain": [
       "KNeighborsClassifier(n_neighbors=9)"
      ]
     },
     "execution_count": 72,
     "metadata": {},
     "output_type": "execute_result"
    },
    {
     "data": {
      "text/plain": [
       "<Figure size 720x432 with 0 Axes>"
      ]
     },
     "execution_count": 72,
     "metadata": {},
     "output_type": "execute_result"
    },
    {
     "data": {
      "text/plain": [
       "[<matplotlib.lines.Line2D at 0x17f246675b0>]"
      ]
     },
     "execution_count": 72,
     "metadata": {},
     "output_type": "execute_result"
    },
    {
     "data": {
      "text/plain": [
       "Text(0.5, 1.0, 'Error Rate vs. K Value')"
      ]
     },
     "execution_count": 72,
     "metadata": {},
     "output_type": "execute_result"
    },
    {
     "data": {
      "text/plain": [
       "Text(0.5, 0, 'K')"
      ]
     },
     "execution_count": 72,
     "metadata": {},
     "output_type": "execute_result"
    },
    {
     "data": {
      "text/plain": [
       "Text(0, 0.5, 'Error Rate')"
      ]
     },
     "execution_count": 72,
     "metadata": {},
     "output_type": "execute_result"
    },
    {
     "data": {
      "image/png": "[encoded data removed]",
      "text/plain": [
       "<Figure size 720x432 with 1 Axes>"
      ]
     },
     "metadata": {
      "needs_background": "light"
     },
     "output_type": "display_data"
    },
    {
     "name": "stdout",
     "output_type": "stream",
     "text": [
      "Minimum error:- 0.3626373626373627 at K = 5\n"
     ]
    }
   ],
   "source": [
    "error_rate = []\n",
    "for i in range(1,10):\n",
    " knn = KNeighborsClassifier(n_neighbors=i)\n",
    " knn.fit(X_train,y_train)\n",
    " pred_i = knn.predict(X_test)\n",
    " #print (pred_i)\n",
    " #print (1-accuracy_score(y_test, pred_i))\n",
    " error_rate.append(1-accuracy_score(y_test, pred_i))\n",
    "\n",
    "plt.figure(figsize=(10,6))\n",
    "plt.plot(range(1,10),error_rate,color='blue', linestyle='dashed', \n",
    "         marker='o',markerfacecolor='red', markersize=10)\n",
    "plt.title('Error Rate vs. K Value')\n",
    "plt.xlabel('K')\n",
    "plt.ylabel('Error Rate')\n",
    "plt.show()\n",
    "print(\"Minimum error:-\",min(error_rate),\"at K =\",error_rate.index(min(error_rate))+1)"
   ]
  },
  {
   "cell_type": "code",
   "execution_count": 73,
   "id": "978407eb",
   "metadata": {},
   "outputs": [
    {
     "data": {
      "text/plain": [
       "KNeighborsClassifier(metric='euclidean')"
      ]
     },
     "execution_count": 73,
     "metadata": {},
     "output_type": "execute_result"
    }
   ],
   "source": [
    "knn = KNeighborsClassifier(n_neighbors=5, metric='euclidean')\n",
    "knn.fit(X_train, y_train)"
   ]
  },
  {
   "cell_type": "code",
   "execution_count": 74,
   "id": "c71e7e38",
   "metadata": {},
   "outputs": [
    {
     "data": {
      "text/plain": [
       "0.6373626373626373"
      ]
     },
     "execution_count": 74,
     "metadata": {},
     "output_type": "execute_result"
    }
   ],
   "source": [
    "y_pred = knn.predict(X_test)\n",
    "accuracy_score(y_test, y_pred)"
   ]
  },
  {
   "cell_type": "code",
   "execution_count": 75,
   "id": "f591806c",
   "metadata": {},
   "outputs": [
    {
     "data": {
      "text/plain": [
       "DecisionTreeClassifier(max_depth=10, random_state=42)"
      ]
     },
     "execution_count": 75,
     "metadata": {},
     "output_type": "execute_result"
    },
    {
     "name": "stdout",
     "output_type": "stream",
     "text": [
      "0.7362637362637363\n"
     ]
    }
   ],
   "source": [
    "from sklearn.tree import DecisionTreeClassifier\n",
    "df = DecisionTreeClassifier(max_depth=10,random_state=42)\n",
    "df.fit(X_train,y_train)\n",
    "y_pred = df.predict(X_test)\n",
    "print(accuracy_score(y_test,y_pred))"
   ]
  },
  {
   "cell_type": "code",
   "execution_count": 76,
   "id": "c38f9012",
   "metadata": {},
   "outputs": [
    {
     "data": {
      "text/plain": [
       "RandomForestClassifier(max_depth=10)"
      ]
     },
     "execution_count": 76,
     "metadata": {},
     "output_type": "execute_result"
    },
    {
     "name": "stdout",
     "output_type": "stream",
     "text": [
      "0.7692307692307693\n"
     ]
    }
   ],
   "source": [
    "rf = RandomForestClassifier(max_depth=10)\n",
    "rf.fit(X_train, y_train)\n",
    "y_pred = rf.predict(X_test)\n",
    "print(accuracy_score(y_test,y_pred))"
   ]
  },
  {
   "cell_type": "markdown",
   "id": "e80f9a20",
   "metadata": {},
   "source": [
    " PCA (choosing the optimal number of components)"
   ]
  },
  {
   "cell_type": "code",
   "execution_count": 77,
   "id": "d2d80e2e",
   "metadata": {},
   "outputs": [
    {
     "data": {
      "text/plain": [
       "PCA(n_components=3)"
      ]
     },
     "execution_count": 77,
     "metadata": {},
     "output_type": "execute_result"
    },
    {
     "data": {
      "text/plain": [
       "((302, 13), (302, 3))"
      ]
     },
     "execution_count": 77,
     "metadata": {},
     "output_type": "execute_result"
    }
   ],
   "source": [
    "from sklearn.decomposition import PCA\n",
    "model1=PCA(n_components=3)\n",
    "\n",
    "#It finds the 2 principle componenets.\n",
    "model1.fit(X)\n",
    "#reducing 30 features to 2\n",
    "#Transforms the data into 2 principle components\n",
    "X_PCA=model1.transform(X)\n",
    "X.shape,X_PCA.shape"
   ]
  },
  {
   "cell_type": "code",
   "execution_count": 78,
   "id": "3f17d591",
   "metadata": {},
   "outputs": [
    {
     "data": {
      "text/plain": [
       "array([0.74693348, 0.15067252, 0.08495227])"
      ]
     },
     "execution_count": 78,
     "metadata": {},
     "output_type": "execute_result"
    }
   ],
   "source": [
    "model1.explained_variance_ratio_"
   ]
  },
  {
   "cell_type": "code",
   "execution_count": 79,
   "id": "eb18fa9e",
   "metadata": {},
   "outputs": [
    {
     "data": {
      "text/plain": [
       "[<matplotlib.lines.Line2D at 0x17f248cdd00>]"
      ]
     },
     "execution_count": 79,
     "metadata": {},
     "output_type": "execute_result"
    },
    {
     "data": {
      "text/plain": [
       "Text(0.5, 1.0, 'Scree Plot')"
      ]
     },
     "execution_count": 79,
     "metadata": {},
     "output_type": "execute_result"
    },
    {
     "data": {
      "text/plain": [
       "Text(0.5, 0, 'Principal Component')"
      ]
     },
     "execution_count": 79,
     "metadata": {},
     "output_type": "execute_result"
    },
    {
     "data": {
      "text/plain": [
       "Text(0, 0.5, 'Variance Explained')"
      ]
     },
     "execution_count": 79,
     "metadata": {},
     "output_type": "execute_result"
    },
    {
     "data": {
      "image/png": "[encoded data removed]",
      "text/plain": [
       "<Figure size 432x288 with 1 Axes>"
      ]
     },
     "metadata": {
      "needs_background": "light"
     },
     "output_type": "display_data"
    }
   ],
   "source": [
    "import matplotlib.pyplot as plt\n",
    "import numpy as np\n",
    "\n",
    "PC_values = np.arange(model1.n_components_) + 1\n",
    "plt.plot(PC_values, model1.explained_variance_ratio_, 'o-', linewidth=2, color='blue')\n",
    "plt.title('Scree Plot')\n",
    "plt.xlabel('Principal Component')\n",
    "plt.ylabel('Variance Explained')\n",
    "plt.show()"
   ]
  },
  {
   "cell_type": "code",
   "execution_count": null,
   "id": "7b4250e3",
   "metadata": {},
   "outputs": [],
   "source": []
  }
 ],
 "metadata": {
  "kernelspec": {
   "display_name": "Python 3",
   "language": "python",
   "name": "python3"
  },
  "language_info": {
   "codemirror_mode": {
    "name": "ipython",
    "version": 3
   },
   "file_extension": ".py",
   "mimetype": "text/x-python",
   "name": "python",
   "nbconvert_exporter": "python",
   "pygments_lexer": "ipython3",
   "version": "3.8.8"
  }
 },
 "nbformat": 4,
 "nbformat_minor": 5
}
